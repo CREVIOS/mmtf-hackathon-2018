{
 "cells": [
  {
   "cell_type": "markdown",
   "metadata": {},
   "source": [
    "# Sequence-Structure Coverage"
   ]
  },
  {
   "cell_type": "code",
   "execution_count": 1,
   "metadata": {},
   "outputs": [],
   "source": [
    "from pyspark.sql import SparkSession\n",
    "from mmtfPyspark.structureViewer import view_binding_site\n",
    "from mmtfPyspark.io import mmtfReader\n",
    "from pyspark.sql.functions import concat_ws\n",
    "from mmtfPyspark.datasets import g2sDataset, pdbjMineDataset, myVariantDataset"
   ]
  },
  {
   "cell_type": "markdown",
   "metadata": {},
   "source": [
    "#### Configure Spark"
   ]
  },
  {
   "cell_type": "code",
   "execution_count": 2,
   "metadata": {},
   "outputs": [],
   "source": [
    "spark = SparkSession.builder.master(\"local[4]\").appName(\"sequence_structure_coverage\").getOrCreate()\n",
    "sc = spark.sparkContext"
   ]
  },
  {
   "cell_type": "code",
   "execution_count": 3,
   "metadata": {
    "scrolled": true
   },
   "outputs": [
    {
     "data": {
      "text/html": [
       "<div>\n",
       "<style scoped>\n",
       "    .dataframe tbody tr th:only-of-type {\n",
       "        vertical-align: middle;\n",
       "    }\n",
       "\n",
       "    .dataframe tbody tr th {\n",
       "        vertical-align: top;\n",
       "    }\n",
       "\n",
       "    .dataframe thead th {\n",
       "        text-align: right;\n",
       "    }\n",
       "</style>\n",
       "<table border=\"1\" class=\"dataframe\">\n",
       "  <thead>\n",
       "    <tr style=\"text-align: right;\">\n",
       "      <th></th>\n",
       "      <th>pdbid</th>\n",
       "      <th>chain</th>\n",
       "      <th>sp_primary</th>\n",
       "      <th>res_beg</th>\n",
       "      <th>res_end</th>\n",
       "      <th>pdb_beg</th>\n",
       "      <th>pdb_end</th>\n",
       "      <th>sp_beg</th>\n",
       "      <th>sp_end</th>\n",
       "      <th>structureChainId</th>\n",
       "    </tr>\n",
       "  </thead>\n",
       "  <tbody>\n",
       "    <tr>\n",
       "      <th>0</th>\n",
       "      <td>101M</td>\n",
       "      <td>A</td>\n",
       "      <td>P02185</td>\n",
       "      <td>1</td>\n",
       "      <td>154</td>\n",
       "      <td>0</td>\n",
       "      <td>153</td>\n",
       "      <td>1</td>\n",
       "      <td>154</td>\n",
       "      <td>101M.A</td>\n",
       "    </tr>\n",
       "    <tr>\n",
       "      <th>1</th>\n",
       "      <td>102L</td>\n",
       "      <td>A</td>\n",
       "      <td>P00720</td>\n",
       "      <td>1</td>\n",
       "      <td>40</td>\n",
       "      <td>1</td>\n",
       "      <td>40</td>\n",
       "      <td>1</td>\n",
       "      <td>40</td>\n",
       "      <td>102L.A</td>\n",
       "    </tr>\n",
       "    <tr>\n",
       "      <th>2</th>\n",
       "      <td>102L</td>\n",
       "      <td>A</td>\n",
       "      <td>P00720</td>\n",
       "      <td>42</td>\n",
       "      <td>165</td>\n",
       "      <td>41</td>\n",
       "      <td>None</td>\n",
       "      <td>41</td>\n",
       "      <td>164</td>\n",
       "      <td>102L.A</td>\n",
       "    </tr>\n",
       "    <tr>\n",
       "      <th>3</th>\n",
       "      <td>102M</td>\n",
       "      <td>A</td>\n",
       "      <td>P02185</td>\n",
       "      <td>1</td>\n",
       "      <td>154</td>\n",
       "      <td>0</td>\n",
       "      <td>153</td>\n",
       "      <td>1</td>\n",
       "      <td>154</td>\n",
       "      <td>102M.A</td>\n",
       "    </tr>\n",
       "    <tr>\n",
       "      <th>4</th>\n",
       "      <td>103L</td>\n",
       "      <td>A</td>\n",
       "      <td>P00720</td>\n",
       "      <td>1</td>\n",
       "      <td>40</td>\n",
       "      <td>1</td>\n",
       "      <td>None</td>\n",
       "      <td>1</td>\n",
       "      <td>40</td>\n",
       "      <td>103L.A</td>\n",
       "    </tr>\n",
       "  </tbody>\n",
       "</table>\n",
       "</div>"
      ],
      "text/plain": [
       "  pdbid chain sp_primary  res_beg  res_end pdb_beg pdb_end  sp_beg  sp_end  \\\n",
       "0  101M     A     P02185        1      154       0     153       1     154   \n",
       "1  102L     A     P00720        1       40       1      40       1      40   \n",
       "2  102L     A     P00720       42      165      41    None      41     164   \n",
       "3  102M     A     P02185        1      154       0     153       1     154   \n",
       "4  103L     A     P00720        1       40       1    None       1      40   \n",
       "\n",
       "  structureChainId  \n",
       "0           101M.A  \n",
       "1           102L.A  \n",
       "2           102L.A  \n",
       "3           102M.A  \n",
       "4           103L.A  "
      ]
     },
     "execution_count": 3,
     "metadata": {},
     "output_type": "execute_result"
    }
   ],
   "source": [
    "path = \"/Users/kyle_stiers/Desktop/mmtf_files/reduced/\"\n",
    "pdb = mmtfReader.read_sequence_file(path, sc)\n",
    "\n",
    "uniprotQuery = \"SELECT * FROM sifts.pdb_chain_uniprot\"\n",
    "uniprot = pdbjMineDataset.get_dataset(uniprotQuery)\n",
    "\n",
    "uniprot.toPandas().head(5)"
   ]
  },
  {
   "cell_type": "code",
   "execution_count": null,
   "metadata": {},
   "outputs": [],
   "source": [
    "spark.stop()"
   ]
  }
 ],
 "metadata": {
  "kernelspec": {
   "display_name": "Python 3",
   "language": "python",
   "name": "python3"
  },
  "language_info": {
   "codemirror_mode": {
    "name": "ipython",
    "version": 3
   },
   "file_extension": ".py",
   "mimetype": "text/x-python",
   "name": "python",
   "nbconvert_exporter": "python",
   "pygments_lexer": "ipython3",
   "version": "3.6.4"
  }
 },
 "nbformat": 4,
 "nbformat_minor": 2
}
