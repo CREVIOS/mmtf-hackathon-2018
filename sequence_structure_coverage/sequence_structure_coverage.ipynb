{
 "cells": [
  {
   "cell_type": "markdown",
   "metadata": {},
   "source": [
    "# New sequence families from unclassified structural regions\n",
    "\n",
    "We ask the question: what is the coverage of sequence families in a structural dataset? We hope to identify unclassified structural regions that are potentially new sequence families.\n",
    "\n",
    "We will use Pfam family definitions as the sequence classification data and the structures in the PDB.\n",
    "\n",
    "Authors: \n",
    "- Kyle Stiers (kylestiers [at] gmail.com)\n",
    "- Aleix Lafita (aleixlafita [at] gmail.com)"
   ]
  },
  {
   "cell_type": "code",
   "execution_count": 1,
   "metadata": {},
   "outputs": [
    {
     "name": "stderr",
     "output_type": "stream",
     "text": [
      "/Users/peter/anaconda3/lib/python3.6/importlib/_bootstrap.py:219: RuntimeWarning: numpy.dtype size changed, may indicate binary incompatibility. Expected 96, got 88\n",
      "  return f(*args, **kwds)\n",
      "/Users/peter/anaconda3/lib/python3.6/importlib/_bootstrap.py:219: RuntimeWarning: numpy.dtype size changed, may indicate binary incompatibility. Expected 96, got 88\n",
      "  return f(*args, **kwds)\n"
     ]
    }
   ],
   "source": [
    "from pyspark.sql import Row,SparkSession\n",
    "from pyspark import SparkContext\n",
    "\n",
    "from mmtfPyspark.structureViewer import view_binding_site\n",
    "from mmtfPyspark.ml import pythonRDDToDataset\n",
    "from mmtfPyspark.io import mmtfReader\n",
    "from mmtfPyspark.filters import PolymerComposition\n",
    "from mmtfPyspark.mappers import StructureToPolymerChains\n",
    "from mmtfPyspark.structureViewer import view_structure\n",
    "\n",
    "import pandas as pd\n",
    "import matplotlib\n",
    "import py3Dmol"
   ]
  },
  {
   "cell_type": "markdown",
   "metadata": {},
   "source": [
    "## Configure Spark"
   ]
  },
  {
   "cell_type": "code",
   "execution_count": 2,
   "metadata": {},
   "outputs": [],
   "source": [
    "spark = SparkSession.builder.master(\"local[4]\").appName(\"sequence_structure_coverage\").getOrCreate()\n",
    "sc = spark.sparkContext"
   ]
  },
  {
   "cell_type": "markdown",
   "metadata": {},
   "source": [
    "## Parse structural information in the PDB"
   ]
  },
  {
   "cell_type": "code",
   "execution_count": null,
   "metadata": {
    "scrolled": true
   },
   "outputs": [],
   "source": [
    "# Set the location of the PDB sample to analyze\n",
    "path = \"../resources/mmtf_reduced_sample\"\n",
    "pdb = mmtfReader.read_sequence_file(path, fraction=0.1)\n",
    "\n",
    "pdb.count()"
   ]
  },
  {
   "cell_type": "markdown",
   "metadata": {},
   "source": [
    "## Load Pfam data\n",
    "\n",
    "Data file downloaded from the Pfam FTP (ftp://ftp.ebi.ac.uk/pub/databases/Pfam/current_release/database_files/).\n",
    "It contains a mapping of the regions in PDB structures classified by Pfam."
   ]
  },
  {
   "cell_type": "code",
   "execution_count": null,
   "metadata": {},
   "outputs": [],
   "source": [
    "pfam_data = pd.read_csv(\"pdb_pfamA_reg.txt\",sep='\\t',header=(0), low_memory=False)\n",
    "pfam_data.head(5)"
   ]
  },
  {
   "cell_type": "markdown",
   "metadata": {},
   "source": [
    "### Trim dataset to only keep information we need"
   ]
  },
  {
   "cell_type": "code",
   "execution_count": null,
   "metadata": {},
   "outputs": [],
   "source": [
    "d = {'chainId': pfam_data['pdb_id']+'.'+pfam_data['chain'], 'pfam':pfam_data['pfamA_acc'], 'pdb_res_start': pfam_data['pdb_res_start'], 'pdb_res_end':pfam_data['pdb_res_end'], 'range':pfam_data['pdb_res_end']-pfam_data['pdb_res_start']}\n",
    "df = pd.DataFrame(data=d)\n",
    "df_noDups = df.drop_duplicates(subset=\"chainId\")\n",
    "df_noDups.head(5)"
   ]
  },
  {
   "cell_type": "markdown",
   "metadata": {},
   "source": [
    "### Flatmap PDB structures into the number of residues for each protein chain"
   ]
  },
  {
   "cell_type": "code",
   "execution_count": null,
   "metadata": {},
   "outputs": [],
   "source": [
    "chains = pdb.flatMap(StructureToPolymerChains(False,True)) \\\n",
    "            .filter(PolymerComposition(PolymerComposition.AMINO_ACIDS_20))\n",
    "chains.count()"
   ]
  },
  {
   "cell_type": "markdown",
   "metadata": {},
   "source": [
    "### Build a dataset out of the PDB chain information"
   ]
  },
  {
   "cell_type": "code",
   "execution_count": null,
   "metadata": {},
   "outputs": [],
   "source": [
    "def calcProperties(c):\n",
    "    return Row(c[0], c[1].num_groups)\n",
    "\n",
    "rows = chains.map(lambda c: calcProperties(c))"
   ]
  },
  {
   "cell_type": "code",
   "execution_count": null,
   "metadata": {},
   "outputs": [],
   "source": [
    "col_names = [\"chainId\", \"residues\"]\n",
    "summary = pythonRDDToDataset.get_dataset(rows, col_names)\n",
    "summary.describe(col_names[1:]).toPandas()"
   ]
  },
  {
   "cell_type": "code",
   "execution_count": null,
   "metadata": {},
   "outputs": [],
   "source": [
    "chains_df = summary.toPandas()\n",
    "chains_df.head(5)"
   ]
  },
  {
   "cell_type": "markdown",
   "metadata": {},
   "source": [
    "### Remove duplicate entries and aggregate the range covered per PDB ID by PFAM families"
   ]
  },
  {
   "cell_type": "code",
   "execution_count": null,
   "metadata": {
    "scrolled": true
   },
   "outputs": [],
   "source": [
    "df_noDups = df_noDups.groupby(by='chainId')[['range']].sum()\n",
    "df_noDups.head(5)"
   ]
  },
  {
   "cell_type": "markdown",
   "metadata": {},
   "source": [
    "### Joining the PDB data with PFAM data"
   ]
  },
  {
   "cell_type": "code",
   "execution_count": null,
   "metadata": {
    "scrolled": true
   },
   "outputs": [],
   "source": [
    "joined_df = chains_df.set_index('chainId').join(df_noDups, how=\"left\")\n",
    "joined_df.head(5)"
   ]
  },
  {
   "cell_type": "code",
   "execution_count": null,
   "metadata": {},
   "outputs": [],
   "source": [
    "joined_df['range'] = joined_df[['range']].fillna(0)\n",
    "joined_df.head(5)"
   ]
  },
  {
   "cell_type": "code",
   "execution_count": null,
   "metadata": {},
   "outputs": [],
   "source": [
    "joined_df['coverage'] = joined_df['range'] / joined_df['residues']"
   ]
  },
  {
   "cell_type": "code",
   "execution_count": null,
   "metadata": {},
   "outputs": [],
   "source": [
    "joined_df.head(10)"
   ]
  },
  {
   "cell_type": "markdown",
   "metadata": {},
   "source": [
    "## Calculate the distribution of sequence fraction"
   ]
  },
  {
   "cell_type": "code",
   "execution_count": null,
   "metadata": {
    "scrolled": true
   },
   "outputs": [],
   "source": [
    "plot = matplotlib.pyplot.hist(joined_df['coverage'], bins=50)"
   ]
  },
  {
   "cell_type": "markdown",
   "metadata": {},
   "source": [
    "## Display the structures with the lowest classification coverage\n",
    "\n",
    "Display all the structures within some range of PFAM coverage using view_structure and passing a list of PDB IDs"
   ]
  },
  {
   "cell_type": "code",
   "execution_count": null,
   "metadata": {},
   "outputs": [],
   "source": [
    "#low_coverage_hits = joined_df[(joined_df['coverage'] < 0.75) & (joined_df['coverage'] > 0.25)]\n",
    "low_coverage_hits = joined_df[joined_df['coverage'] < 0.1]\n",
    "view_structure(list(low_coverage_hits.index))"
   ]
  },
  {
   "cell_type": "markdown",
   "metadata": {},
   "source": [
    "## New Pfam families from unclassified structural regions\n",
    "\n",
    "Some of the unclassified structural regions could potentially be built into new sequence families.\n",
    "\n",
    "For example, 3QZ0 chain A is unclassified in Pfam but classified in ECOD as a domain of unknown function with a single sequence in the family: http://prodata.swmed.edu/ecod/complete/family/EF19620. A new family could be created by searching sequence homologs "
   ]
  },
  {
   "cell_type": "code",
   "execution_count": null,
   "metadata": {},
   "outputs": [],
   "source": [
    "spark.stop()"
   ]
  },
  {
   "cell_type": "code",
   "execution_count": null,
   "metadata": {},
   "outputs": [],
   "source": []
  }
 ],
 "metadata": {
  "kernelspec": {
   "display_name": "Python 3",
   "language": "python",
   "name": "python3"
  },
  "language_info": {
   "codemirror_mode": {
    "name": "ipython",
    "version": 3
   },
   "file_extension": ".py",
   "mimetype": "text/x-python",
   "name": "python",
   "nbconvert_exporter": "python",
   "pygments_lexer": "ipython3",
   "version": "3.6.3"
  }
 },
 "nbformat": 4,
 "nbformat_minor": 2
}
