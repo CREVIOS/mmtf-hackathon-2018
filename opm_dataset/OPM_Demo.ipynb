{
 "cells": [
  {
   "cell_type": "code",
   "execution_count": 1,
   "metadata": {},
   "outputs": [],
   "source": [
    "from pyspark.sql import SparkSession\n",
    "import opmDataset\n",
    "from pandas import *\n",
    "from mmtfPyspark.io import mmtfReader\n",
    "from ipywidgets import interact, IntSlider\n",
    "import py3Dmol"
   ]
  },
  {
   "cell_type": "markdown",
   "metadata": {},
   "source": [
    "#### Configure Spark"
   ]
  },
  {
   "cell_type": "code",
   "execution_count": 2,
   "metadata": {},
   "outputs": [],
   "source": [
    "spark = SparkSession.builder.master(\"local[4]\").appName(\"OPM_DEMO\").getOrCreate()\n",
    "sc = spark.sparkContext"
   ]
  },
  {
   "cell_type": "code",
   "execution_count": 3,
   "metadata": {},
   "outputs": [],
   "source": [
    "dataset = opmDataset.get_dataset()"
   ]
  },
  {
   "cell_type": "code",
   "execution_count": 4,
   "metadata": {},
   "outputs": [
    {
     "data": {
      "text/html": [
       "<div>\n",
       "<style scoped>\n",
       "    .dataframe tbody tr th:only-of-type {\n",
       "        vertical-align: middle;\n",
       "    }\n",
       "\n",
       "    .dataframe tbody tr th {\n",
       "        vertical-align: top;\n",
       "    }\n",
       "\n",
       "    .dataframe thead th {\n",
       "        text-align: right;\n",
       "    }\n",
       "</style>\n",
       "<table border=\"1\" class=\"dataframe\">\n",
       "  <thead>\n",
       "    <tr style=\"text-align: right;\">\n",
       "      <th></th>\n",
       "      <th>Family</th>\n",
       "      <th>ProteinName</th>\n",
       "      <th>PDBID</th>\n",
       "      <th>Species</th>\n",
       "      <th>Localization</th>\n",
       "      <th>Num.Subunits</th>\n",
       "      <th>Num.TMSec.Structs.</th>\n",
       "      <th>HydrophobicThicknessorDepth(Å)</th>\n",
       "      <th>TiltAngle(°)</th>\n",
       "      <th>ΔGtransfer(kcal/mol)</th>\n",
       "    </tr>\n",
       "  </thead>\n",
       "  <tbody>\n",
       "    <tr>\n",
       "      <th>0</th>\n",
       "      <td>1.1.01.01.</td>\n",
       "      <td>Rhodopsin I</td>\n",
       "      <td>5AX0</td>\n",
       "      <td>Acetabularia acetabulum</td>\n",
       "      <td>Eukaryo. plasma</td>\n",
       "      <td>1</td>\n",
       "      <td>7</td>\n",
       "      <td>32.4 ± 2.2</td>\n",
       "      <td>9 ± 1</td>\n",
       "      <td>-66.6</td>\n",
       "    </tr>\n",
       "    <tr>\n",
       "      <th>1</th>\n",
       "      <td>1.1.01.01.</td>\n",
       "      <td>Halorhodopsin</td>\n",
       "      <td>1E12</td>\n",
       "      <td>Halobacterium salinarum</td>\n",
       "      <td>Archaebac.</td>\n",
       "      <td>3</td>\n",
       "      <td>21</td>\n",
       "      <td>31.8 ± 1.4</td>\n",
       "      <td>0 ± 1</td>\n",
       "      <td>-126.7</td>\n",
       "    </tr>\n",
       "    <tr>\n",
       "      <th>2</th>\n",
       "      <td>1.1.01.01.</td>\n",
       "      <td>Proteorhodopsin</td>\n",
       "      <td>4JQ6</td>\n",
       "      <td>Gamma-proteobacterium</td>\n",
       "      <td>Bact. Gram-neg inner</td>\n",
       "      <td>6</td>\n",
       "      <td>42</td>\n",
       "      <td>28.4 ± 1.3</td>\n",
       "      <td>0 ± 0</td>\n",
       "      <td>-188.5</td>\n",
       "    </tr>\n",
       "    <tr>\n",
       "      <th>3</th>\n",
       "      <td>1.1.01.01.</td>\n",
       "      <td>Archaerhodopsin-2, trimeric</td>\n",
       "      <td>2EI4</td>\n",
       "      <td>Halobacterium sp.</td>\n",
       "      <td>Archaebac.</td>\n",
       "      <td>3</td>\n",
       "      <td>21</td>\n",
       "      <td>30.5 ± 1.2</td>\n",
       "      <td>0 ± 1</td>\n",
       "      <td>-143.9</td>\n",
       "    </tr>\n",
       "    <tr>\n",
       "      <th>4</th>\n",
       "      <td>1.1.01.01.</td>\n",
       "      <td>Archaerhodopsin-1</td>\n",
       "      <td>1UAZ</td>\n",
       "      <td>Halobacterium sp.</td>\n",
       "      <td>Archaebac.</td>\n",
       "      <td>1</td>\n",
       "      <td>7</td>\n",
       "      <td>31.8 ± 1.3</td>\n",
       "      <td>9 ± 2</td>\n",
       "      <td>-65.3</td>\n",
       "    </tr>\n",
       "  </tbody>\n",
       "</table>\n",
       "</div>"
      ],
      "text/plain": [
       "       Family                  ProteinName PDBID                  Species  \\\n",
       "0  1.1.01.01.                  Rhodopsin I  5AX0  Acetabularia acetabulum   \n",
       "1  1.1.01.01.                Halorhodopsin  1E12  Halobacterium salinarum   \n",
       "2  1.1.01.01.              Proteorhodopsin  4JQ6    Gamma-proteobacterium   \n",
       "3  1.1.01.01.  Archaerhodopsin-2, trimeric  2EI4        Halobacterium sp.   \n",
       "4  1.1.01.01.            Archaerhodopsin-1  1UAZ        Halobacterium sp.   \n",
       "\n",
       "           Localization  Num.Subunits  Num.TMSec.Structs.  \\\n",
       "0       Eukaryo. plasma             1                   7   \n",
       "1            Archaebac.             3                  21   \n",
       "2  Bact. Gram-neg inner             6                  42   \n",
       "3            Archaebac.             3                  21   \n",
       "4            Archaebac.             1                   7   \n",
       "\n",
       "  HydrophobicThicknessorDepth(Å) TiltAngle(°)  ΔGtransfer(kcal/mol)  \n",
       "0                     32.4 ± 2.2        9 ± 1                 -66.6  \n",
       "1                     31.8 ± 1.4        0 ± 1                -126.7  \n",
       "2                     28.4 ± 1.3        0 ± 0                -188.5  \n",
       "3                     30.5 ± 1.2        0 ± 1                -143.9  \n",
       "4                     31.8 ± 1.3        9 ± 2                 -65.3  "
      ]
     },
     "execution_count": 4,
     "metadata": {},
     "output_type": "execute_result"
    }
   ],
   "source": [
    "dataset.toPandas().head()"
   ]
  },
  {
   "cell_type": "code",
   "execution_count": 8,
   "metadata": {},
   "outputs": [
    {
     "name": "stdout",
     "output_type": "stream",
     "text": [
      "['5AX0', '1E12', '4JQ6', '2EI4', '1UAZ', '4JR8', '1IW6', '4PXK', '2ZZL', '5AZD', '6EYU', '1H68', '4FBZ', '3A7K', '4QI1', '1PY6', '3VVK', '5JJE', '6EID', '4XTL', '3UG9', '1VGO', '6EIG', '1XIO', '4XTO', '3AM6', '2L6X', '5JSI', '4HYJ', '2M3G', '4TL3', '1M0L', '1FBK', '4WAV', '5B2N', '5VN7', '3DDL', '3X3B', '1H2S', '4KNF', '1AP9', '5XPR', '4GBR', '3CAP', '5WQC', '6BQH', '3UZA', '4GPO', '3EML', '3PXO', '4N6H', '2YDV', '5XSZ', '4U15', '4UHR', '2VT4', '5VBL', '5WIV', '4IB4', '5TE5', '2ZIY', '3QAK', '2Z73', '5O9H', '5ZBQ', '5A8E', '4RWA', '4EA3', '4IAR', '5LWE', '5TUD', '2YCW', '5X33', '3UON', '4GRV', '5TGZ', '5DSG', '4IAQ', '3OE6', '4BUO', '3RZE', '5TVN', '4YAY', '3VGA', '2LNL', '4MBS', '5UIW', '2RH1', '5V54', '5CXV', '1U19', '5GLH', '5T1A', '3OE0', '5UIG', '3PWH', '6B73', '2I37', '4EJ4', '4ZJC', '5GLI', '4MQS', '3ODU', '2IQR', '2X72', '5U09', '4PXZ', '2I36', '4RWS', '4ZWJ', '5T04', '5W0P', '4EIY', '4PXF', '2IQV', '3VW7', '1GZM', '5UEN', '4PHU', '4XES', '2Y02', '4XNV', '4NTJ', '3V2Y', '3PBL', '5C1M', '3OAX', '3SN6', '5NDD', '4XNW', '2K9P', '4DKL', '6CM4', '4Z34', '4DAJ', '5ZBH', '5G53', '5UNH', '4XT3', '3P0G', '6FK6', '5TZY', '6BQG', '4DJH', '5UNG', '5XRA', '4XT1', '3PQR', '5VEW', '4Z9G', '5E94', '5YQZ', '4K5Y', '1FJR', '4L6R', '5VAI', '5NX2', '5XEZ', '5EE7', '6B3J', '5UZ7', '4N4W', '5L7D', '4O9R', '5L7I', '5V56', '5V57', '4QIN', '4JKV', '4OO9', '4OR2', '3WXV', '5LXG', '5LWY', '2J8D', '2J8C', '1EYS', '1L9B', '1DXR', '5V8K', '3PCQ', '5OY0', '6FOS', '5ZF0', '5ZGB', '4RKU', '4XK8', '1JB0', '4KT0', '4L6V', '3WU2', '4PJ0', '4YUU', '3JCU', '3A0B', '5MDX', '3KZI', '5XNL', '4JCB', '4JC9', '6ET5', '3WMM', '5Y5S', '3WMO', '1WRG', '1NKZ', '1JO5', '1IJD', '1XRD', '1LGH', '3PL9', '1RWT', '2BHW', '4RI2', '5XNO', '2K37', '5LCB', '4HEA', '2YBB', '4WZ7', '5XTD', '5LDW', '5XTC', '5LC5', '5XTH', '5LDX', '3RKO', '5XTI', '5LNK', '5O31', '5GUP', '5UHS', '4X5N', '4RNG', '4QNC', '4QND', '5UHQ', '4X5M', '5XPD', '5CTG', '2VPX', '2VPZ', '1KQF', '1Q16', '3VR8', '1ZOY', '2BS2', '1YQ3', '1KF6', '1NEK', '4GD3', '5KKZ', '3BCC', '4PV1', '1EZV', '5NMI', '5KLI', '1L0L', '5XTE', '1ZRT', '3CX5', '1Q90', '2E74', '3H1J', '2ZT9', '2D2C', '2YIU', '1PP9', '4H13', '2QJY', '2FYU', '1BCC', '3CXH', '4O6Y', '6FWF', '1QLE', '2DYR', '5GUW', '1FFT', '3O0R', '3MK7', '4XYD', '2YEV', '3S8G', '5IY5', '3AYF', '1M56', '5DOQ', '1WU0', '1YCE', '5DN6', '3ZRY', '3J9T', '1C99', '6CP5', '3ZO6', '3ZK1', '5FL7', '3J9U', '1L6T', '6CP3', '3J9V', '4F4S', '3V3C', '2XOK', '2W5J', '4B2Q', '5TJ5', '4V1F', '2BL2', '4BEM', '6B2Z', '6C6L', '6F36', '1A91', '1B9U', '2X2V', '2XQU', '1C17', '2ZBG', '4YCM', '3AR9', '4KYT', '3WGU', '3B9R', '3J09', '5MRW', '2AGV', '3FPB', '2XZB', '5YLV', '1XP5', '3N23', '3AR8', '4UMV', '3AR2', '4RES', '3W5A', '3N5K', '3TLM', '2YN9', '4UMW', '1WPG', '4H1W', '3BA6', '4YCL', '4BBJ', '1T5S', '3J08', '2BY4', '3B8E', '4NAB', '3KDP', '5XAA', '1SU4', '5NCQ', '2ZBD', '2EAR', '5KSD', '5Y0B', '2C9M', '2ZXE', '1MHS', '4UX2', '3FPS', '4XE5', '3RFU', '1KJU', '5MPM', '4HQJ', '3B9B', '2ZBE', '4FI3', '4G1U', '2QI9', '5B57', '1L7V', '5B58', '4R9U', '4DBL', '2NQ2', '3PUW', '3TUJ', '3TUI', '4JBW', '3D31', '3DHW', '4YMU', '4TQU', '2ONK', '3PUZ', '3FH6', '5C76', '5NBD', '3ZDQ', '3QF4', '4AYW', '4PL0', '4AYX', '4MRS', '3B5X', '5L22', '5OFP', '3WMG', '4MYC', '5TV4', '4RY2', '2HYD', '3WME', '4AYT', '3B60', '5C78', '4F4C', '4KSC', '5KPI', '4Q9L', '4KSD', '5KPJ', '4Q9I', '3G5U', '4Q9J', '6FN1', '6FN4', '4M1M', '4LSG', '4KSB', '5KO2', '6ETI', '6FFC', '5DO7', '5NJ3', '5NJG', '5XJY', '5MKK', '5U1D', '6BHU', '5W81', '5UAR', '5U71', '5UJ9', '5UJA', '6C0V', '5XU1', '5GKO', '5LIL', '5NIK', '5L75', '5X5Y', '6AN7', '4G80', '4G7V', '2N4X', '5VKV', '5SY1', '5SV0', '5SV1', '5H36', '5WUF', '5H35', '5EIK', '5EGI', '5WUD', '5WUE', '5TCX', '5JKI', '5UPH', '5KTF', '5IJI', '5JEF', '5JEQ', '5JGP', '5O0T', '2WWB', '1RHZ', '2WWA', '4CG7', '3JC2', '5GAE', '4W25', '4V7I', '4V6M', '5EUL', '5AWW', '2ZQP', '5CH4', '2YXR', '1RH5', '5A6U', '3DIN', '3J45', '3J46', '2ZJS', '3MP7', '5MG3', '6FTJ', '1VVK', '4CG5', '3DKN', '2YXQ', '2WW9', '6FTG', '3BO0', '4CG6', '5N6H', '5N6M', '5VRG', '5XHQ', '5VRE', '5MM0', '5MM1', '5MLZ', '5V6P', '5V7V', '5TSA', '5NUP', '5NUQ', '5NUO', '5XJ9', '5XJ5', '5XJ6', '5XJ7', '5XJ8', '6BMS', '6BML', '6BMM', '6B85', '6B87', '5OON', '6CB2', '3F5W', '2A9H', '3PJS', '3F7Y', '3EFF', '1R3J', '3F7V', '3FB6', '1S5H', '3FB5', '3FB8', '4UUJ', '3FB7', '5VKE', '4JTC', '2R9R', '3LNM', '2A79', '3LUT', '5WIE', '5TJ6', '5U70', '5U76', '5TJI', '3BEH', '2ZD9', '5V4S', '6EO1', '5U6O', '4CHW', '5U6P', '4CHV', '3LDC', '5CBG', '6CQ8', '4TWK', '4XDK', '3UM7', '4BW5', '4RUE', '3UKM', '4RUF', '4I9W', '6C9A', '5DQQ', '6C96', '3JBR', '5GJV', '5GJW', '4BGN', '3RVY', '5KLB', '4EKW', '5YUA', '3ZJZ', '4F4L', '5HVX', '4LTO', '5EK0', '5HJ8', '4DXW', '5XSY', '5X0M', '5VB2', '5VB8', '2KYH', '1ORS', '4H33', '1ORQ', '2A0L', '2AHY', '3VOU', '4R7C', '3OUF', '3E86', '5VA1', '5K7L', '2WLK', '5KUK', '4LP8', '4KFM', '3SYA', '3ZRS', '2QKS', '3JYC', '3SYQ', '3SPG', '1P7B', '3SPC', '2WLL', '5IWK', '6BO8', '6BOA', '5WO6', '6BOB', '5WO9', '5VKQ', '5WOA', '5Z96', '6BBJ', '3J5P', '6B5V', '5IRX', '5HI9', '3J5Q', '3J9P', '5AN8', '5IRZ', '5GKY', '3J8H', '5GKZ', '5GL0', '5GL1', '5GO9', '5GOA', '6BPQ', '5WJ5', '5WJ9', '5MKE', '5K47', '5WPQ', '5MKF', '5WPT', '6BQR', '5WPV', '6BQV', '5Z1W', '5W3S', '6AYE', '5WP6', '6AYF', '6BCL', '6AYG', '6BCQ', '3WKV', '4J9U', '5BUT', '3PJZ', '4GX0', '4GX5', '4J7C', '5TWV', '6BAA', '6C3O', '5YKF', '6C3P', '5YKG', '5WUA', '5VMS', '5YS3', '4FZ1', '4NTX', '5WKU', '6AVE', '2QTS', '4FZ0', '4NYK', '5U2H', '3H9V', '5XW6', '5SVJ', '4DW1', '5SVK', '5SVM', '5SVL', '5SVR', '5F1C', '5U1X', '2W2E', '2B5F', '4NEF', '2B6O', '3C02', '1J4N', '4OJ2', '3GD8', '2D57', '3LLQ', '1YMG', '2ZZ9', '3NE2', '5I32', '3CLL', '3M9I', '2B6P', '3J41', '1RC2', '2F2B', '1H6I', '1LDF', '4CSK', '3D9S', '1Z98', '4FC4', '3Q7K', '3KLY', '3TDP', '3KCU', '2KSR', '5OSC', '4PIR', '3JAD', '5TIN', '2LLY', '3JAE', '5KXI', '3RHW', '4COF', '4TNW', '3JAF', '2M6I', '6BE1', '4TNV', '5CFB', '2BG9', '2LM2', '2MAW', '5OJM', '4AQ9', '5OSA', '4LML', '5SXV', '5SXU', '5HCM', '2VL0', '3RQW', '3UQ7', '3TLW', '4X5T', '5LG3', '5J0Z', '4A97', '4NPQ', '5HEO', '5L4H', '4YEU', '5HEH', '4LMJ', '5HEG', '4TWD', '3EAM', '4U1W', '4U2Q', '5L1B', '5UN1', '4U5B', '5L1H', '4U5C', '4PE5', '3KG2', '5VHY', '5WEK', '4U5F', '4TLM', '5VHZ', '5WEL', '4U4F', '5KBT', '5WEO', '5KBU', '5UOW', '4UQJ', '5KK2', '5UP2', '5VOT', '4U2P', '5KUF', '5VOU', '4U4G', '4U1X', '5VOV', '4U1Y', '1U7G', '2NS1', '3B9Y', '5AEX', '5AEZ', '6EU6', '2B2F', '3HD6', '5AH3', '4EZC', '3K3F', '2OAR', '3HZQ', '4Y7J', '4Y7K', '3T9N', '3UDC', '5AJI', '2OAU', '4HW9', '2ZW3', '5ER7', '5H1R', '3X29', '5B2G', '4P79', '5JRW', '4I0U', '5N9Y', '3JCF', '2IUB', '2BBJ', '4EV6', '4EEB', '2WCD', '6BGJ', '5OYB', '5OYG', '4WIS', '6BGI', '5X87', '4WD8', '4RDQ', '1PW4', '2CFQ', '2CFP', '5GXB', '4OAA', '1PV6', '2V8N', '2Y5Y', '4ZP0', '2GFP', '3WDO', '3O7Q', '5D6K', '4W6V', '4OH3', '4CL4', '5A2N', '2XUT', '4UVM', '4Q65', '4APS', '4D2D', '4IKV', '6EI3', '4IKY', '4LEP', '4TPG', '4IKX', '4TPJ', '4PYP', '4LDS', '4QIQ', '4J05', '4ZW9', '4GC0', '4YB9', '4YBQ', '4JA3', '4JA4', '4ZWC', '4JR9', '4U4W', '4IU9', '4U4T', '4M64', '5AYN', '5AYO', '3TT1', '3TT3', '2A65', '5I6X', '5JAE', '5JAG', '4M48', '4FXZ', '4US3', '2X79', '2JLN', '4D1B', '2XQ2', '3DH4', '5NV9', '3P03', '4DOJ', '4LLH', '4C7R', '4M8J', '4AIN', '2WSX', '2WSW', '3HFX', '2WIT', '4DJI', '3L1L', '3GIA', '3H5M', '3OB6', '5J4I', '3HQK', '5OQT', '5XLS', '3QE7', '5I6C', '3LLO', '5DA0', '3OIZ', '4DGH', '4DGF', '5SV9', '6CAA', '4YZF', '5L25', '5VRF', '3H90', '3J1Z', '2QFI', '2GIF', '2V50', '4DX5', '4MT1', '5NC5', '4K0E', '2RDD', '5O66', '3D9B', '3NOG', '4C48', '5V78', '5V5S', '5LQ3', '3K07', '3KSS', '5T0O', '3T56', '3NE5', '5XAM', '5XAN', '5XAP', '3AQP', '5YHF', '5U74', '5I31', '5U73', '5KHN', '5KHS', '5I20', '5Y79', '5OGE', '3BLC', '5M5H', '5C8J', '3WVF', '3WO7', '3M73', '2NWW', '3V8G', '5E9S', '3KBC', '4P19', '4X2S', '5CFY', '5LLU', '5MJU', '5DWY', '4OYE', '2NWL', '3ZUY', '4N7X', '4N7W', '2C3E', '1OKC', '4C9G', '4C9Q', '4C9H', '2LCK', '1ZCD', '3FI1', '4ATV', '5BZ3', '4D0A', '4BWZ', '4CZ8', '4CZ9', '5BZ2', '4CZB', '5A1S', '5XAR', '5XAT', '5XAS', '5X9R', '5TR1', '3ORG', '1OTS', '1KPL', '5TQQ', '3ND0', '5M94', '4WGV', '5M95', '5KTE', '5M87', '3WBN', '4LZ6', '3VVO', '3VVP', '5Y50', '5XJJ', '4HUM', '4MLB', '4Z3N', '3MKT', '5C6P', '5T77', '3P5N', '5KBW', '4DVE', '3RLB', '4TKR', '4HZU', '4HUQ', '4RFS', '5D0Y', '5D3M', '5JSZ', '4Z7F', '5X41', '5X3X', '4M58', '5EDL', '4CAD', '4U9N', '2YVX', '4QTN', '3QNQ', '5IWS', '2LTQ', '2HI7', '3E9J', '2ZUP', '2LEG', '2K74', '2ZUQ', '2MOZ', '2LJ2', '2M67', '2KSF', '2KSD', '2KSE', '3TX3', '1LV7', '3KDS', '3CHX', '4PHZ', '1YEW', '3RGB', '4NV2', '4NV6', '3RCE', '5OGL', '6C26', '6EZN', '3WAK', '5F15', '1RKL', '2LAT', '5V7P', '4A2N', '3ZE5', '2KDC', '4BPD', '4D2E', '3B8N', '5FGN', '5I5F', '5I5H', '1P49', '2W8D', '2W5Q', '3S0X', '4HYG', '5A63', '2N7R', '5FN2', '4UIS', '5FN3', '5FN4', '5FN5', '3B4R', '3VIV', '3BPP', '2IRV', '2NR9', '2XTV', '2XOW', '3UBB', '4H1D', '4QO2', '2NRF', '3ZEB', '2UUH', '4NTF', '3DWW', '2H8A', '2Q7R', '5I9K', '4YL3', '4BPM', '3PJV', '1T7D', '1B12', '1KN9', '3IIQ', '3V5S', '4KJS', '4KJR', '3V5U', '4KPP', '4K1C', '5HWY', '3TIJ', '5L24', '5L27', '5L26', '5U9W', '5L2A', '4AV6', '4A01', '5LZQ', '5GPJ', '4AV3', '2LOS', '2LOP', '2LOR', '2LON', '5NF8', '2LOM', '4IL3', '4AW6', '5SYT', '4FYG', '4JZA', '5ULD', '4R0C', '4R1I', '3JQO', '2BHV', '4HKR', '4B4A', '2MN6', '2L16', '2LZR', '2LZS', '2MI2', '3UX4', '4HG6', '5EJZ', '4P00', '4P02', '5DIR', '2K8J', '2MTS', '3ZD0', '5CKR', '5O5E', '5JNQ', '6BW6', '5LEV', '4J72', '2M6X', '4OD5', '4TQ4', '4UC2', '4UC3', '4RYI', '4RYM', '2MGY', '2N02', '4UC1', '5D92', '5D91', '4O6M', '4MND', '4PGR', '4PGS', '5JWY', '4O9P', '4O9U', '2MPN', '4Q2G', '4Q2E', '5GUF', '4QUV', '4P6V', '2MMU', '4RP8', '4RP9', '4YMK', '4ZYO', '4ZR1', '5A43', '5A40', '6BQO', '4XU4', '5EKE', '5AZB', '2LZL', '5LV6', '1P4O', '3BEA', '2K9Y', '2J0K', '2M0B', '2N90', '5OB4', '2M59', '1IIJ', '1M6B', '1N8Y', '2N2A', '2KS1', '2K1L', '2JWA', '2L6W', '2L2T', '2MFR', '2MEU', '2K1K', '2M20', '2MET', '2L9U', '2HAC', '2KLU', '2IF7', '5F71', '3KAA', '2OR7', '2OR8', '1DQT', '1URL', '5F7H', '1YJD', '5F70', '3BIB', '3OAI', '1NEU', '3P2T', '5OEK', '5OHD', '2NA8', '3NCE', '2MV6', '2N7I', '3G5B', '3N1F', '2BC4', '3SBW', '3IJE', '2K8O', '2K9J', '2K1A', '2LKE', '2RMZ', '1S4X', '2M3E', '2LJD', '2LJE', '2LUV', '2KNC', '2LJF', '2N9Y', '3G9W', '1S4W', '2L8S', '2MK9', '2MKA', '5NAM', '1XEU', '1V04', '1WCK', '2HEW', '3CA7', '2VJ2', '2L35', '4WOL', '2L34', '4WO1', '1ZZA', '5EH4', '1AFO', '1IFL', '1IFI', '1IFK', '2MJZ', '1IFP', '1HGZ', '2XKM', '2CPS', '2IFO', '1QL1', '2HIL', '2M7G', '5KUA', '1OQW', '5VXX', '2PIL', '5VXY', '3SOK', '3J1R', '5KYH', '5O4U', '5WDA', '2ITA', '3QW9', '1NRJ', '1SPF', '2N1T', '3HD7', '2M8R', '1KIL', '2KOG', '2NPS', '3KYQ', '4WY4', '1IOU', '2XHE', '1RZ2', '2WTS', '1OM2', '3AWR', '2K3M', '2J5D', '2KA1', '2KA2', '1F16', '2L5B', '4A1U', '1G5M', '1O0L', '2L58', '2M5I', '2RLF', '2KWX', '2N70', '3LBW', '2KIX', '4RWB', '2KQT', '5UM1', '5C02', '2LY0', '4QKM', '2LJB', '3C9J', '2LJC', '2MUV', '1PI7', '2K7Y', '1VPU', '1ZLL', '1JDM', '2KB7', '2M3B', '1PLP', '1FJK', '1N7L', '2JO1', '2JP3', '2MKV', '2J58', '2W8H', '2KV5', '2MC7', '4UY3', '2NDJ', '2K21', '2M0Q', '2J7A', '1PO5', '3G5N', '4C0C', '1DT6', '3PM0', '5TZ1', '3E6I', '3SWZ', '5TL8', '1Z10', '5EQB', '2P85', '5FSA', '3CZH', '5X23', '3MDM', '3R1B', '4I8V', '5TE8', '2Q9F', '4COH', '4ZV8', '4BY0', '5VEU', '2WX2', '3NXU', '3QM4', '3K9V', '3DSK', '1IZO', '3ZG2', '5V5Z', '6BDH', '4I91', '5FRB', '6B82', '3SN5', '4R1Z', '1N97', '4R21', '3EQM', '4BMM', '1NR6', '3LD6', '2VE3', '3TDA', '3B98', '4Y8W', '4J14', '1SUO', '4XRY', '3G1Q', '4DVQ', '2VE4', '2F9Q', '3UA5', '4GQS', '3N9Y', '5UYS', '2HI4', '4WMZ', '1PQ2', '2WUZ', '3KSW', '5JLC', '2BDM', '3IBD', '3DAN', '3MZS', '3B6H', '5W0C', '1OG5', '3L4D', '3QZ1', '2Q6N', '5IUT', '1R9O', '3DAX', '5T6Q', '1TQN', '2Z5X', '1SEZ', '2IVD', '1S3E', '2RGH', '1O5W', '3NKS', '2XFN', '1MT5', '1V3E', '3F6Y', '2OQO', '5HLB', '2OLV', '3HZS', '3VMR', '3HDE', '2Y8P', '5MJ6', '5C97', '4KXD', '2YD0', '3MDJ', '3SE6', '2MZE', '2MZI', '2MZH', '1C3I', '2AO7', '1NZN', '1Y8M', '1PC2', '2WH5', '3FLV', '2CB8', '3TGH', '5K8K', '5I85', '5EBE', '5FC1', '5KAR', '5FIC', '5B49', '5GZN', '1UZG', '2I69', '3C6E', '3G7T', '3I50', '5IRE', '3IYW', '2HG0', '5IZ7', '1OK8', '3J2P', '3P54', '5LCV', '4FG0', '5JHL', '5H37', '1URZ', '4UT6', '5JHM', '4UT9', '5LBV', '3UAJ', '4UTC', '5LBS', '1K4R', '2YEW', '3N41', '3J0C', '1RER', '3J2W', '3NW8', '5I2S', '5I2M', '3DUZ', '2B4H', '2B4I', '5J81', '5J9H', '5F1B', '2LFM', '2LLM', '1AMB', '1QCM', '2MJ1', '2LOH', '2LZ3', '1BA4', '2LZ4', '2LP1', '2MM4', '2NB8', '2NB7', '5NHQ', '2MJ2', '4CLV', '2MOM', '2MOF', '2MIC', '2KMZ', '2NA6', '2MJO', '2NA7', '1GWY', '3ZWJ', '4TSQ', '4TSY', '3LIM', '2KS4', '1IAZ', '5H0Q', '4LQY', '5UDY', '1SR3', '3V66', '3WCF', '3WEH', '3WEK', '3I65', '6B8S', '1UUM', '1D3H', '1GOX', '5TCE', '4CQ8', '1F76', '4WGK', '2ZXC', '2ZWS', '4QGK', '2KO2', '5HK1', '5HK2', '4CAH', '4QQF', '5KZO', '5LBJ', '5KIU', '2JMM', '1BXW', '2K0L', '1QJP', '3QRA', '3QRC', '1QJ8', '4RLC', '2LHF', '2MAF', '1P4T', '2MLH', '2X27', '2MHL', '2F1V', '1THQ', '3GP6', '2ERV', '3DZM', '4RL9', '4RLB', '4FUV', '1I78', '2X4M', '2X55', '1K24', '2VDF', '3FID', '2WJR', '4FQE', '3SLJ', '1UYN', '1UYO', '3QQ2', '3KVN', '3AEH', '2QOM', '4MEE', '4E1S', '4E1T', '5O65', '5O67', '1QD6', '1QD5', '5DQX', '1TLY', '3BS0', '3DWO', '1T16', '3PGR', '3PGU', '2R88', '3BRY', '2X9K', '4CTD', '2IWV', '2IWW', '4D51', '4D5B', '4V3G', '6EHF', '4AUI', '6EHE', '1PHO', '5MDR', '5OYK', '2IXX', '5NXR', '5MDQ', '3POX', '3A2S', '6EHB', '2IXW', '4D65', '5ONU', '1OSM', '6EHC', '2FGQ', '3UPG', '5FVN', '3WI4', '3NSG', '3WI5', '5NXN', '2J1N', '2POR', '3PRN', '2O4V', '4RJW', '4GEY', '4GF4', '3NJT', '4QL0', '5LJO', '3TGO', '4N75', '4C4V', '4K3C', '4K3B', '4C00', '5D0Q', '5EKQ', '5AYW', '5OR1', '4XGA', '3EFC', '2MPR', '1A0S', '1AF6', '2Y0L', '5DL5', '4FRT', '2QTK', '5DL6', '3JTY', '4FRX', '5DL7', '4FSO', '3SY7', '5DL8', '4FSP', '3SY9', '3SYB', '2ODJ', '3SZD', '3T24', '2Y0H', '2Y0K', '4FT6', '4AFK', '4XNK', '4XNL', '5D5D', '3RBH', '4B61', '5LDV', '5FR8', '5NC4', '4RDR', '1KMP', '4RDT', '5T3R', '5ODW', '2YSU', '4EPA', '1QFG', '2HDI', '4CU4', '5T4Y', '1XKW', '1UJW', '1FEP', '2HDF', '5FQ6', '1KMO', '5FP2', '1NQE', '2GRX', '5C58', '2IAH', '3CSL', '5MZS', '2GSK', '3QLB', '4AIP', '4ZGV', '2GUF', '3EFM', '3V89', '5FOK', '5NEC', '4AIQ', '3FHH', '3V8X', '5FP1', '3M8D', '2VQI', '4J3O', '3OHN', '3RFZ', '5JDP', '5XDN', '2K4T', '5XDO', '2JK4', '3EMN', '4BUM', '5O8O', '3EMO', '2GR7', '2LME', '4K7K', '2VDD', '2XMN', '3PIK', '4MT0', '5AZP', '4MT4', '5AZS', '5BUN', '1EK9', '1YC9', '2WMZ', '1WP1', '2VDE', '3B07', '2QK7', '3LKF', '1PVL', '7AHL', '5K59', '4P1Y', '4P1X', '5JZT', '4H56', '4I0N', '1XEZ', '3O44', '3W9T', '3J9C', '5GAQ', '5EC5', '1UUN', '2YNK', '4Q35', '4N4R', '5IV9', '5IVA', '4RHB', '5IXM', '4UV3', '4Q79', '4RL8', '4Y25', '5ZDH', '5W68', '5TCQ', '5WQ7', '5WQ8', '5WLN', '6CB8', '5B5R', '4H0S', '3JQL', '1S8I', '2AOZ', '1GMZ', '4K06', '2OK9', '1AE7', '2PH4', '1OZY', '3ELO', '3UX7', '1VIP', '3DIH', '2OSH', '1XXS', '2Q2J', '2QHD', '1JLT', '2WQ5', '1ZWP', '2NOT', '1POA', '1P7O', '2I0U', '1OZ6', '5WZM', '2OSN', '5TFV', '1N28', '1BUN', '1M8T', '1IJL', '1U4J', '2H4C', '3T0R', '1G4I', '1PPA', '1Y75', '1PP2', '3G8G', '1G2X', '4P2P', '1YXH', '1OQS', '4RFP', '1BK9', '3I03', '1TC8', '1LE6', '1S6B', '1JIA', '1PA0', '2QOG', '1MC2', '1GP7', '1BJJ', '2OQD', '3G8H', '3VBZ', '1UMV', '3V9M', '1VAP', '1Y4L', '1GOD', '1POC', '4AUP', '1KP4', '2WG7', '1YGE', '1RRH', '4G32', '3FG3', '2IUK', '4G33', '2IUJ', '3V99', '3D3L', '2P0M', '3RDE', '5EK8', '5MED', '3O8Y', '5IR4', '5FNO', '4NRE', '3DY5', '1KHO', '1GYG', '1CA1', '2WXU', '1QMD', '1P6D', '1OLP', '4KVL', '1CX2', '4HHR', '5F19', '1Q4G', '1W6K', '2SQC', '1RQJ', '3KL4', '3PMQ', '1DUW', '1COR', '451C', '1KV9', '1NML', '1C6S', '1F1F', '1LS9', '1A8C', '1HRC', '1CO6', '1KX7', '1CXA', '1M70', '1PUO', '3KV0', '5KDI', '4NT1', '1TFJ', '4NTI', '4K8N', '1SWX', '1WBE', '4KBR', '1SX6', '2SPC', '1HCI', '1G5Z', '1J0T', '1HXI', '2C0L', '1FCH', '3MYV', '1QQE', '1H0A', '5WFB', '5AHV', '5ON7', '5OO7', '1DVP', '1MHQ', '1HFA', '2LUG', '2X43', '1M9I', '1W3W', '1DM5', '1DK5', '4MDV', '2ZOC', '1N00', '4X9P', '1AVC', '1W7B', '1YCN', '1ANN', '1AXN', '2ZHJ', '1I4A', '1HVF', '1A8A', '1HM6', '1YII', '2L2R', '2NB2', '2M6A', '2LI3', '2L37', '1Q8H', '1NL2', '1PFX', '1LQV', '4O03', '5EDM', '4MZZ', '1IOD', '1NL0', '1DAN', '1AA7', '4PUS', '5HYB', '5LDL', '2LPY', '2F76', '5LMY', '4ZV5', '2MV4', '1MN8', '1A6S', '1HEK', '3W54', '1ECI', '4DDJ', '2RB3', '1OF9', '2DWF', '2JSA', '3S63', '1SN6', '1NKL', '3RFI', '3S64', '1N69', '4V2O', '2DOB', '1O82', '2KJF', '2MP8', '2M5Z', '2M60', '2MWR', '5LWC', '2N8O', '2N8P', '1COL', '2I88', '1JI6', '1I5P', '1EHS', '3R2P', '2A01', '2L7B', '1YA9', '2LEM', '2OU1', '1L6L', '1EZE', '1OPP', '1ALF', '1ALE', '1IOJ', '1I5J', '2JQ3', '1SZI', '1YGM', '3DA4', '2XMX', '1XQ8', '3L0M', '4MXP', '3N6O', '2WUJ', '3LLL', '3QNI', '1RP4', '3M31', '2XU0', '3C64', '2VQL', '1M8L', '3SWH', '4HNE', '3ML9', '1E7U', '4EZK', '3HHM', '3LS8', '4PLA', '2WXF', '2ZRR', '1TDP', '2BL7', '5LFI', '2FU2', '2IP6', '2LRD', '2MVI', '2KUY', '2MIJ', '5Y70', '3OGH', '2GKN', '2QRW', '1KQ3', '1RKP', '1SUM', '1JCR', '2H6F', '1OW4', '2WL8', '3AJM', '2B8I', '1VF6', '3ETW', '1IK7', '3WXX', '1BGK', '1ROO', '2LG4', '2K72', '2MBD', '2DDA', '2DDB', '2EPF', '1XX5', '2A05', '2CQ7', '1RC9', '4M5E', '4M5F', '4LUQ', '3WA5', '2LA0', '2LBZ', '2L9X', '1PXQ', '5KN7', '5F34', '5FB7', '5J5K', '5E7X', '4B4Q', '3NZI', '1QTF', '1LCY', '3P8N', '2O8M', '2WHX', '2WV9', '1FQ5', '1LF2', '1QDM', '1QS8', '1LYB', '2Q63', '3FSN', '2BIW', '4F2Z', '3NPE', '4F30', '1XB8', '1B3I', '1F56', '1SFD', '1ID2', '1PMY', '1RKR', '1CUO', '9PCY', '2PLT', '1BXV', '1WS8', '2KT4', '3FW5', '1QWD', '1IIU', '3EBW', '1EPB', '1KT6', '2KTD', '1LF7', '1AQB', '2WR6', '1RBP', '4O9S', '3NQ9', '4PSQ', '2HZQ', '1BJ7', '1CBR', '2MJI', '1CBS', '1HMT', '1CRB', '4A60', '3O22', '1BWY', '1KQW', '3ELZ', '5GGE', '1YIV', '2MO5', '1OPB', '1ICM', '1GGL', '5H9A', '1KZW', '1LPJ', '2K62', '1FDQ', '1PMP', '2FTB', '4LKT', '1VYF', '4AZP', '1A18', '1TOW', '4ORS', '2A0A', '2FLJ', '1O8V', '2WUT', '4OS0', '2RCQ', '1FTP', '3AKM', '5IXG', '5IXH', '3HPE', '1Y0G', '3Q34', '1WUB', '1YS5', '1MM9', '1AUN', '1PCV', '3II7', '3O4P', '1L0Q', '3F7F', '3W15', '1HPI', '3PYC', '3N5A', '2DMG', '3PFQ', '5VFG', '5A52', '3M7F', '2EP6', '1RLW', '3B7Y', '2CJS', '2JQZ', '1DSY', '2NSQ', '3KWU', '1RSY', '2B3R', '2CM5', '1BYN', '1UOV', '1GMI', '3HN8', '2K3H', '6ANK', '3NSJ', '4V11', '1UGK', '2FK9', '2CHD', '4P42', '3FDW', '3F00', '5H4Y', '1A25', '3W57', '1YRK', '5A50', '2D8K', '2NQ3', '1WFM', '5T0R', '2BWQ', '3L9B', '2R83', '2ENP', '4RJ9', '4NPK', '1TJJ', '2AGC', '4G8A', '1KTJ', '2Z64', '1XWV', '1PUB', '3MTX', '2AG4', '2E56', '1NEP', '3WEB', '1QVY', '1DS6', '1DOA', '1CC0', '1HH4', '1LMI', '2VJ0', '1P4U', '1OM9', '1TXK', '2XBT', '1D7P', '3J2Q', '4MO3', '3J2S', '2R7E', '3BN6', '1CZS', '3JD6', '1SDD', '3UNP', '1M8U', '2BYO', '3MH9', '2PNE', '2XA7', '1N7V', '1W1G', '1WGQ', '1BTN', '2BCJ', '1XD4', '4A6F', '1V5P', '2D9Y', '1DYN', '1BWN', '1FHX', '2D9V', '2DA0', '1PLS', '3TFM', '1DBH', '2DTC', '2D9W', '5L81', '2DHI', '1FOE', '2DFK', '2D9X', '4F7H', '2RSG', '2DKP', '1FAO', '4MT7', '2DX1', '1EAZ', '4MT6', '5YQR', '2X18', '1UNQ', '1MAI', '3NSU', '1P6S', '1FHO', '3PP2', '1V5U', '1U5D', '1BAK', '1U27', '4IAP', '3BJI', '1NTY', '1U5F', '2MDX', '5U78', '1UPR', '1U5E', '2YS1', '1NU2', '1GC6', '1HCE', '1PWA', '1MD6', '1SR4', '2GZB', '1R2M', '2GVM', '4AOG', '4BWH', '3Q7O', '3P1L', '3PRW', '1VMO', '1OAL', '1VFY', '1JOC', '1X4U', '1Z2Q', '1WFK', '1ZBD', '1HYI', '2YW8', '1XA6', '1Y8F', '1RFH', '2DB6', '2ELI', '2ENN', '1KBF', '4L9M', '1FAQ', '4B6D', '1TBN', '2YUU', '2E73', '1R79', '1PTR', '4FKD', '1DQC', '1IYC', '3TOW', '1UDK', '1FLE', '6ATU', '1H8P', '4TLW', '4TLV', '1Q9B', '2KUS', '2LB7', '1MMC', '1P9Z', '1FYG', '1G1Z', '1F3K', '1MVJ', '1FU3', '2EFZ', '1RMK', '1AG7', '1EYO', '1IXT', '1AV3', '2N8H', '1MVI', '2CCO', '2H1Z', '1D1H', '1QK7', '1LMM', '1DL0', '1S6X', '5T4R', '1NIY', '1LU8', '2MQU', '1EIT', '1LUP', '6AV8', '1V90', '1MB6', '1V91', '2N86', '1AGG', '5O0U', '2M36', '1I25', '2A2V', '6AX2', '1KQI', '5I1X', '2M9L', '1KOZ', '2KGH', '1OAV', '1VTX', '1NIX', '2JTB', '2AAP', '1Y29', '1QDP', '1LA4', '2N6O', '4B2V', '1G9P', '1QK6', '2WH9', '1EMX', '2E2S', '2GX1', '2LL1', '1V7F', '5WE3', '2I1T', '1I26', '1LMR', '1JU8', '1P8B', '1CIX', '2DCW', '2DCV', '2M2Q', '2MFS', '5WXE', '1DKC', '2N5Q', '2ML7', '1C4E', '2LZX', '2LZY', '2M3J', '2N2G', '2N3P', '3Q8J', '1Y7J', '1MR0', '1JLP', '1AS5', '1IE6', '2KUK', '2KCG', '1ZA8', '2JWM', '1YP8', '2B38', '1PT4', '1NB1', '2AKS', '1DF6', '1VB8', '2ERI', '1R1F', '3E4H', '2JUE', '2KUX', '2KVX', '2LUR', '2FQA', '1BH4', '2GJ0', '2NBC', '6ENA', '5IMY', '4ZGH', '3HVN', '4BIK', '4QQQ', '1PFO', '4CDB', '5CR6', '5AOD', '1S3R', '5CR8', '5AOE', '4HSC', '3CQF', '5AOF', '5IMT', '2LGN', '1TU5', '1JCH', '1RL5', '4OM5', '1TGX', '1F94', '1CTX', '1CDT', '3FEV', '2VLW', '5LUE', '1UG4', '2MJ0', '3NEQ', '5NQ4', '1FFJ', '5MG9', '1H0J', '1KXI', '1TXA', '3PLC', '2CDX', '3EBX', '5DZ5', '2MFA', '1DRS', '1ANS', '1TV0', '1E4R', '1ZMM', '1BNB', '1ZMP', '1UT3', '2K1I', '1ZMQ', '2LG5', '1EWS', '2LXO', '3GNY', '5LCS', '2PM1', '1D6B', '2B5B', '1B8W', '2LWL', '1IJV', '2MXQ', '1DFN', '2JR3', '1KJ6', '1FD3', '1E4T', '1WQK', '1WXN', '1BDS', '1SHI', '1ATX', '2H9X', '1AHL', '1APF', '2RQ2', '2RNG', '2B9K', '1Z99', '2VQP', '1PG6', '3CWZ', '3ML3', '2IOU', '1DAB', '1PE9', '4IY8', '1WZX', '1UZ5', '5TKG', '3K8I', '3K8G', '3K8J', '3GNZ', '2BRJ', '3MX7', '3FQM', '3NJI', '3OP8', '1W18', '1SUJ', '3VY7', '1ES6', '5XMZ', '5A3V', '1OGS', '2VT0', '1VFF', '1V02', '3GNR', '1WZA', '1FCQ', '2W62', '5FIH', '2W61', '5BXA', '2OSX', '1NH6', '1H0I', '2VI0', '1HJQ', '3ZR5', '1DJX', '4QJ3', '4GNK', '3OHM', '2ZKM', '1GYM', '1AOD', '4F2T', '1T6M', '1XX1', '3RLH', '3H4X', '1P33', '1Y5M', '1XU7', '3G49', '2WJE', '1K2W', '1IPE', '2GMH', '5YJY', '1E6E', '3H28', '4NWZ', '4G6H', '3SX6', '5JWA', '5HXW', '2QCU', '1VE9', '2VN8', '2BCG', '3P1W', '2PXX', '1AKN', '2XB6', '1JMY', '4EY4', '5X61', '1AQL', '4BE9', '2BCE', '1EA5', '4QWW', '1F6W', '4BE4', '1N5M', '4BDT', '1P0I', '3BIW', '5DYY', '1QON', '3BL8', '3B3Q', '1R88', '4QDU', '1DQY', '5VNS', '1F0N', '1VA5', '1SFR', '1HLG', '1K8Q', '1THT', '1EH5', '1PJA', '3GRO', '1FJ2', '3OG9', '2H1I', '5DWD', '1AUO', '3CN9', '3DOH', '1EIN', '2ORY', '3GUU', '1LGY', '1TRH', '5CH8', '1LPP', '3ICV', '5AP9', '1GZ7', '1CLE', '1THG', '2QUA', '3G7N', '1LBS', '3ZPX', '3O0D', '4L3W', '3TGL', '4TGL', '1DT5', '2W22', '3A70', '1JI3', '4FDM', '2HIH', '2Z8X', '2ZYR', '2ES4', '2DSN', '1QGE', '5LIP', '4FKB', '1EX9', '4GW3', '1CVL', '4FMP', '1KU0', '3AUK', '4QNN', '1GPL', '1N8S', '1W52', '1BU8', '1LPA', '2OXE', '1RP1', '1LPB', '1HPL', '1ETH', '2PPL', '5AJH', '3HC7', '3AJA', '1OXM', '3GBS', '4OYY', '3DCN', '5W95', '2CZQ', '1JFR', '2FX5', '3D59', '6BQ0', '3JW8', '3PE6', '4ZWN', '1JJI', '3WJ2', '1LZK', '3BJR', '2HM7', '3QH4', '3EBL', '3WJ1', '2ZSH', '2QMQ', '2XMR', '3H2G', '2WFM', '4OPM', '5BOV', '4PSU', '4XWG', '4X90', '4X96', '5BV7', '4O5P', '4M0M', '5H6B', '1ISP', '4BTV', '2X5X', '1VHO', '1OXW', '5FQU', '1CJY', '5IXC', '5IZ5', '3HL4', '1PEH', '1PEI', '1PN3', '3S2U', '1F0K', '1NLM', '2Q6V', '2H1H', '1PSW', '3L7L', '2XCI', '4N9W', '2GEK', '6EJI', '4NC9', '2IW1', '2N58', '1LBQ', '1HRK', '4KLR', '5C16', '4Y7I', '1M7R', '1ZVR', '3G7J', '3MDK', '1Z9H', '1A0R', '2TRC', '1B9X', '1U3A', '3KIJ', '5L71', '2VUP', '1XVW', '1RK4', '3B7N', '3W68', '4FMM', '1R5L', '2D4Q', '1OIZ', '1O6U', '1AUA', '3HX3', '3HY5', '4UYB', '2Q3L', '1EFP', '1EFV', '2WSI', '1E6C', '1VIA', '1TF5', '1GOT', '2QPT', '2J69', '3A36', '3SJA', '2H18', '2KSQ', '1MOZ', '2X77', '1KSG', '1FZQ', '1Z6Y', '2K5U', '1VG8', '1WMS', '1XTQ', '2P2L', '4KYI', '1TPZ', '1NIJ', '4EHY', '4EHX', '1OF8', '1TX2', '2BMB', '2H4T', '2FY2', '1Q6X', '1T1U', '1NDB', '1NM8', '2H3U', '2LE3', '1Q9J', '4R04', '2VK9', '2BVL', '2VKH', '2RJ6', '4FIX', '3I9V', '3RGQ', '1RTT', '2X2O', '2XOD', '1TQY', '1RKQ', '1RDF', '1L6R', '3MPO', '3N1U', '5W78', '5W7E', '2HSJ', '5W7D', '5W7B', '5W7A', '5W7C', '4HYQ', '4RW0', '5MAL', '5JD3', '3P94', '3RJT', '1U7N', '3NZB', '1QWK', '3FJN', '2D2R', '5ILQ', '1NRZ', '1P31', '2VTF', '4QN9', '1B4V', '1COY', '2BNG', '3C5N', '1S31', '1I7E', '1C8Z', '5UVG', '4CML', '1ZWX', '2DDT', '3I48', '4CMN', '3N9V', '3CNU', '2CX7', '3BKR', '1IKT', '2QZT', '1PZ4', '1C44', '2CFU', '3QSZ', '5BRL', '1LN1', '5JJD', '1EM2', '5YQI', '5YS0', '5YQQ', '5YQJ', '2PSO', '6BYM', '3FO5', '3P0L', '2R55', '2E3Q', '2E3M', '1T27', '1UW5', '2A1L', '1KCM', '2QIM', '2VQ5', '2D4R', '3GGN', '1T17', '3W9K', '1OCS', '2WWE', '4ON3', '2AR5', '1XTE', '1H6H', '3FOG', '4BGJ', '2L73', '1KMD', '2V6V', '1O7K', '3HPC', '1KQ6', '2V14', '4IKB', '1OCU', '3P0C', '4IKD', '1H1H', '5JBL', '1AUV', '3UE7', '2PLH', '1OKH', '1WUW', '1EJG', '1JMP', '3C8P', '1BHP', '1JMN', '1NBL', '2L1Q', '1ZHX', '4PH7', '4B2Z', '1ZHY', '1ZI7', '4JCH', '5H2D', '3SPW', '4IC4', '5KYM', '3RBB', '3IK5', '2NEF', '1ZEC', '1AVV', '2XI1', '1WWN', '1B3C', '1OMY', '1FH3', '1VNA', '2KBJ', '2YEO', '2KJA', '2N9Z', '1NRA', '2SN3', '1SNB', '1JZA', '1I6F', '2YC1', '2KBK', '1T1T', '1DJT', '1T0Z', '1PE4', '1DQ7', '1AHO', '2I61', '1NPI', '1LQQ', '1KV0', '1MYN', '1I2U', '2RTY', '1MM0', '2KOZ', '1OZZ', '2LLD', '1ICA', '1L4V', '2LN4', '1FJN', '2NZ3', '2B68', '6AU7', '2CRD', '1SIS', '6AVA', '6ATW', '6AVD', '5X0S', '1NE5', '3ODV', '6ATL', '3PSM', '5KK4', '2MZ0', '1TI5', '1N4N', '2GL1', '1BRZ', '4CQK', '4AB0', '1AYJ', '2LJ7', '2N2R', '1JKZ', '4UJ0', '1GPS', '5VYP', '1GPT', '1MR4', '1JXC', '3E7R', '2LR5', '2LT8', '2EEM', '2E2F', '2K35', '2LN8', '1UGL', '1IMT', '1TER', '2RU0', '2MN5', '5FZV', '5FZW', '1LSH', '3FGR', '1OSC', '3OIS', '1M6D', '1W4T', '1W5R', '3IFU', '2KYT', '2VO9', '4FDO', '4FF6', '3EEE', '1WUE', '5HH0', '2X7B', '5HGZ', '3NRD', '1VKB', '1S7J', '3R2T', '1DYQ', '1D01', '2WNP', '3BB0', '1CK7', '1EAK', '1GXD', '2Y3U', '4UR4', '4NY6', '1C89', '2LX2', '1OPS', '1UCS', '1U5U', '3E4W', '3RJR', '4MJT', '4XIZ', '4YTX', '3LXR', '2HD0', '2OBD', '1BP1', '3ZPM', '4B62', '4U2X', '4AXC', '2XAR', '4AXD', '1LG7', '2W2R', '4OWR', '1B2V', '4XZD', '3WAH', '4Y4S', '4JET', '3MOK', '4JES', '3MOL', '3ELL', '1YBJ', '5IQW', '3D34', '1RFX', '1RGX', '1WN8', '1WN4', '2MLP', '2KYA', '2LIF', '2M1J', '1Z65', '1SKH', '1FCT', '1VTP', '2HN8', '2MLO', '2MZ2', '2KI9', '1BL1', '1HZN', '1DEP', '1HOD', '2LOW', '2K44', '5JR0', '2LE7', '2LCM', '1QG9', '1HO2', '1UJL', '2KHK', '2JTW', '1VRY', '2K58', '1MOT', '3MRA', '1A11', '1DXZ', '2K59', '1BTQ', '1BTS', '2M7W', '2M7X', '2KBV', '2LS2', '2LS3', '2LS4', '2KY5', '1M23', '2L9G', '1Z9I', '2M76', '2MAE', '2NR1', '2ML9', '2RND', '2KIT', '1VM2', '1O53', '1KDL', '1Z2T', '4AXP', '2LSW', '2L7C', '2BAO', '2BAU', '5A4H', '5T7Q', '2KGN', '2LBG', '2IV5', '1DSK', '1FI0', '1KZT', '1X9V', '1BDE', '2LD2', '2MD1', '2L3H', '2LQ0', '2LQ1', '2LQ2', '2MP3', '2N1C', '2N2C', '5Z5X', '2RLG', '3CAY', '2NCW', '2O0S', '2MXH', '2N63', '5MXT', '5MXL', '2L99', '2L96', '2L9A', '1DJF', '2N9R', '1PEF', '2N8D', '1XKM', '2JQ2', '1SMZ', '1OMQ', '2L36', '2KJN', '2LCN', '2LCO', '2M0W', '4P6J', '2MYL', '3HF0', '5V1E', '1ODQ', '1OEF', '2IRG', '2FQ5', '2RLJ', '2ARI', '2MG1', '5XES', '2MG2', '1P5A', '5XJK', '2RSW', '2PJV', '2LCY', '5NVP', '2MK3', '2MB1', '2RUM', '2M5F', '2RUN', '2RUO', '2M8O', '2NCS', '2LQY', '2FX7', '1JAU', '1SVF', '2X7R', '4G6F', '2ME2', '5T42', '2ME3', '5JYN', '5VWL', '2ME1', '2ME4', '6B3U', '2PV6', '2LP7', '2KZQ', '1LCX', '2L4G', '2JRD', '2L24', '1IBN', '1XOP', '2KXA', '1EMZ', '2KNU', '2LVG', '2N1P', '1R7G', '2KDR', '2AJO', '2M0S', '1FW5', '2JXF', '2LZP', '2JY0', '2LZQ', '2KWZ', '2KWT', '2MKB', '2LX0', '2LM7', '2MNS', '2IMU', '1Y04', '1WFB', '1QLO', '2A1C', '2I2H', '1V1D', '1RON', '2DEZ', '1ICY', '1K8V', '1RU5', '1TZ4', '1PPT', '2NA5', '3IOL', '2LMA', '2M5P', '2L64', '2RRH', '5NIQ', '1BH0', '2N08', '2NAW', '2D2P', '1GCN', '1KX6', '1JRJ', '3C59', '2QKH', '2JSI', '1LBJ', '1WSO', '1ET1', '1BZG', '3FFD', '1Y32', '1SRB', '1EDN', '3CMH', '2LDE', '2LDF', '1BKU', '2L86', '2KB8', '2FLY', '2L7S', '2KJ7', '2JXZ', '2GLG', '2MOC', '2B19', '1MYU', '1MXQ', '1N6T', '2MCE', '2NOU', '2GFR', '1P9F', '2N4K', '2LJT', '2A2B', '1CW5', '1CW6', '1OHM', '1YTR', '2JUI', '2RLW', '2KHG', '2KEG', '5L82', '2MLU', '2JPJ', '2JPM', '5UJR', '5UJQ', '1P0L', '1DTC', '5KGY', '5KGZ', '5KHB', '5MAS', '1R9U', '4Z0W', '5M9Y', '1IH9', '4BY8', '1EE7', '1M24', '1OB4', '1OB6', '4G13', '1AMT', '1OB7', '1JOH', '3SBN', '1A0M', '1MII', '2I28', '1DG2', '2LER', '1ZLC', '2H8S', '5L34', '1P1P', '1E75', '1PQR', '1NOT', '1MTQ', '1IEN', '2N24', '2M3I', '1B45', '2GCZ', '2M61', '1QMW', '1PEN', '1K64', '1AKG', '2LA2', '2N92', '2MMM', '1D9J', '2JMY', '2IGR', '2N9A', '2MJQ', '2CZP', '1D7N', '2MLT', '2MW6', '2N85', '2L3I', '1G92', '1ZRX', '1ZRV', '2K38', '1X22', '2JR8', '1KV4', '1T51', '5X3L', '5MMK', '2MP9', '2KFE', '1UEO', '1XV3', '2G9P', '2PCO', '1Z64', '2OJM', '5H2S', '1XC0', '2KNS', '2DD6', '2K9B', '2L5R', '1C98', '2N0H', '2AP8', '2MHW', '2N6M', '2JQ1', '2MAA', '2JQ0', '5XDJ', '5YKL', '2JPY', '2K10', '2G9L', '2MMJ', '1VM5', '2F3A', '4MGP', '2MAG', '5CGN', '5CGO', '2K98', '2N0O', '5J6V', '5U9V', '5UA7', '5U9X', '5UA8', '2NCY', '2NCX', '2MWT', '2GDL', '1FRY', '5NNM', '2L5M', '2HFR', '5NMN', '5XNG', '1LYP', '2AMN', '5XRX', '2KET', '2K6O', '2NA3', '2NDC', '1HU5', '2NAL', '1HR1', '1QX9', '2I1D', '2I1E', '1D6X', '5ID5', '2GMC', '1Z6V', '2NDK', '2KSG', '2YMK', '4B19', '2MVH', '2MZM', '2N0V', '6C41', '2JNI', '2JSB', '5Y0I', '2L8X', '2LLR', '1KFP', '1RKK', '2M6J', '2RTV', '8TFV', '1CZ6', '2ATG', '2LYE', '1HVZ', '2MUH', '2MZ6', '1PG1', '2MQ2', '2NC7', '1Y5C', '1LFC', '1Y58', '2N7N', '2M7J', '5HPP', '2M7I', '5AWL', '2N7O', '2MTM', '2EW4', '1IEO', '2M62', '3ZKT', '3H0T', '1S6W', '1M4F', '1JBL', '1O8Y', '4TTK', '1GM2', '2M3N', '6CFB', '2LS1', '1RPB', '2N5C', '5UI7', '2LX6', '5GVO', '6B5W', '2MAI', '5OQZ', '5XM4', '4NAG', '2MW3', '5TJ1', '2MLJ', '5JQF', '5D9E', '2MMT', '2M8F', '1S7P', '2MMW', '1Q71', '2N6U', '2LTI', '2M37', '5JPL', '2MFV', '5UI6', '3NJW', '2DJ9', '1HRL', '1V28', '2DJC', '2EQT', '1B5N', '1IRR', '1E0Q', '2LNY', '2Y3J', '2Y3K', '2LNQ', '2Y3L', '3OW9', '4Q8D', '5HOY', '3NVE', '3NVF', '1SOC', '1TK2', '4M6E', '6B34', '6B35', '2LWQ', '2LWS', '2NB6', '2LWT', '2NB5', '2LWU', '2NDN', '2NDL', '2NDM', '2LWV', '6AZF', '6AXI', '6AWM', '6AWK', '5KX2', '5VAV', '2XDC', '1C4D', '3ZQ8', '1GMK', '2IZQ', '1AV2', '1MIC', '3L8L', '1JO3', '1GRM', '1JO4', '1TKQ', '1KQE', '2V53', '2WUH', '1R9V', '2M6D', '2M6H', '1AJ1', '1QOW', '1MQX', '1MQY', '1MQZ', '2M8V', '2MH5', '1WCO', '2DDE', '2KTO', '2KTN', '1W9N', '1ETN', '1T5M', '1XT7', '1T5N', '5O0Z', '1W3M', '2NPV', '2N5Y', '2IGZ', '1CWA', '2JQC', '2MWL', '1QVL', '1BDK', '1A1P', '2OYV', '1XY4', '2MI1', '1XY2', '1PLW', '2N2F', '6F3W', '1N2Y', '1LV4', '4OZ7', '2XJH', '1A7Y', '1A7Z', '1QFI', '1E9W', '2L2Y', '4K7T', '1LCM', '1AY3', '1EVD', '1DSR', '2NAE']\n"
     ]
    },
    {
     "data": {
      "text/plain": [
       "pyspark.rdd.PipelinedRDD"
      ]
     },
     "execution_count": 8,
     "metadata": {},
     "output_type": "execute_result"
    }
   ],
   "source": [
    "pdbids = dataset.toPandas()['PDBID'].tolist()\n",
    "print(pdbids)\n",
    "structures = mmtfReader.download_full_mmtf_files(pdbids[:10], sc)\n",
    "type(structures)"
   ]
  },
  {
   "cell_type": "code",
   "execution_count": 9,
   "metadata": {},
   "outputs": [
    {
     "data": {
      "text/plain": [
       "['2EI4',\n",
       " '1UAZ',\n",
       " '2ZZL',\n",
       " '5AZD',\n",
       " '1E12',\n",
       " '5AX0',\n",
       " '4JQ6',\n",
       " '4JR8',\n",
       " '1IW6',\n",
       " '4PXK']"
      ]
     },
     "execution_count": 9,
     "metadata": {},
     "output_type": "execute_result"
    }
   ],
   "source": [
    "structures.keys().collect()"
   ]
  },
  {
   "cell_type": "code",
   "execution_count": 32,
   "metadata": {},
   "outputs": [],
   "source": [
    "def view_proteins(pdb_ids):\n",
    "    import pycurl\n",
    "    def view3d(i=0):\n",
    "        pdb_id = pdb_ids[i].lower()\n",
    "        opm_url = 'http://opm.phar.umich.edu/pdb/'\n",
    "        c = pycurl.Curl()\n",
    "        c.setopt(c.URL, opm_url + pdb_id + '.pdb')\n",
    "        with open(pdb_id + '.pdb', 'wb') as f:\n",
    "            c.setopt(c.WRITEDATA, f)\n",
    "            c.perform()\n",
    "        \n",
    "        print(f'PDB: {pdb_ids[i]}')\n",
    "\n",
    "        structure = open(pdb_id + '.pdb', 'r').read()\n",
    "        viewer = py3Dmol.view()\n",
    "        viewer.addModel(structure, 'pdb')\n",
    "\n",
    "        viewer.setStyle({'cartoon': {'color': 'spectrum'}})\n",
    "        viewer.setStyle({'hetflag': True}, {'stick': {}})\n",
    "        viewer.setStyle({'resn': 'DUM'}, {'sphere': {'radius': 0.3}})\n",
    "        viewer.zoomTo()\n",
    "        return viewer.show()\n",
    "\n",
    "    s_widget = IntSlider(min=0, max=len(pdb_ids)-1, description='Structure', continuous_update=True)\n",
    "    return interact(view3d, i=s_widget)"
   ]
  },
  {
   "cell_type": "code",
   "execution_count": 33,
   "metadata": {},
   "outputs": [
    {
     "data": {
      "application/vnd.jupyter.widget-view+json": {
       "model_id": "dae1b98c797b4970b5570253cca31503",
       "version_major": 2,
       "version_minor": 0
      },
      "text/plain": [
       "interactive(children=(IntSlider(value=0, description='Structure', max=3825), Output()), _dom_classes=('widget-…"
      ]
     },
     "metadata": {},
     "output_type": "display_data"
    },
    {
     "data": {
      "text/plain": [
       "<function __main__.view_proteins.<locals>.view3d>"
      ]
     },
     "execution_count": 33,
     "metadata": {},
     "output_type": "execute_result"
    }
   ],
   "source": [
    "view_proteins(pdbids)"
   ]
  },
  {
   "cell_type": "code",
   "execution_count": null,
   "metadata": {},
   "outputs": [],
   "source": [
    "spark.stop()"
   ]
  }
 ],
 "metadata": {
  "kernelspec": {
   "display_name": "Python 3",
   "language": "python",
   "name": "python3"
  },
  "language_info": {
   "codemirror_mode": {
    "name": "ipython",
    "version": 3
   },
   "file_extension": ".py",
   "mimetype": "text/x-python",
   "name": "python",
   "nbconvert_exporter": "python",
   "pygments_lexer": "ipython3",
   "version": "3.6.4"
  }
 },
 "nbformat": 4,
 "nbformat_minor": 2
}
