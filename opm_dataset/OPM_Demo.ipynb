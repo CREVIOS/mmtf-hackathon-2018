{
 "cells": [
  {
   "cell_type": "code",
   "execution_count": 63,
   "metadata": {},
   "outputs": [],
   "source": [
    "from pyspark.sql import SparkSession\n",
    "import opmDataset\n",
    "from pandas import *\n",
    "from mmtfPyspark.io import mmtfReader\n",
    "from ipywidgets import interact, IntSlider\n",
    "import py3Dmol"
   ]
  },
  {
   "cell_type": "markdown",
   "metadata": {},
   "source": [
    "#### Configure Spark"
   ]
  },
  {
   "cell_type": "code",
   "execution_count": 64,
   "metadata": {},
   "outputs": [],
   "source": [
    "spark = SparkSession.builder.master(\"local[4]\").appName(\"OPM_DEMO\").getOrCreate()\n",
    "sc = spark.sparkContext"
   ]
  },
  {
   "cell_type": "code",
   "execution_count": 65,
   "metadata": {},
   "outputs": [],
   "source": [
    "dataset = opmDataset.get_dataset()"
   ]
  },
  {
   "cell_type": "code",
   "execution_count": 66,
   "metadata": {},
   "outputs": [
    {
     "data": {
      "text/html": [
       "<div>\n",
       "<style scoped>\n",
       "    .dataframe tbody tr th:only-of-type {\n",
       "        vertical-align: middle;\n",
       "    }\n",
       "\n",
       "    .dataframe tbody tr th {\n",
       "        vertical-align: top;\n",
       "    }\n",
       "\n",
       "    .dataframe thead th {\n",
       "        text-align: right;\n",
       "    }\n",
       "</style>\n",
       "<table border=\"1\" class=\"dataframe\">\n",
       "  <thead>\n",
       "    <tr style=\"text-align: right;\">\n",
       "      <th></th>\n",
       "      <th>Family</th>\n",
       "      <th>ProteinName</th>\n",
       "      <th>PDBID</th>\n",
       "      <th>Species</th>\n",
       "      <th>Localization</th>\n",
       "      <th>Num.Subunits</th>\n",
       "      <th>Num.TMSec.Structs.</th>\n",
       "      <th>HydrophobicThicknessorDepth(Å)</th>\n",
       "      <th>TiltAngle(°)</th>\n",
       "      <th>ΔGtransfer(kcal/mol)</th>\n",
       "    </tr>\n",
       "  </thead>\n",
       "  <tbody>\n",
       "    <tr>\n",
       "      <th>0</th>\n",
       "      <td>1.1.01.01.</td>\n",
       "      <td>Rhodopsin I</td>\n",
       "      <td>5AX0</td>\n",
       "      <td>Acetabularia acetabulum</td>\n",
       "      <td>Eukaryo. plasma</td>\n",
       "      <td>1</td>\n",
       "      <td>7</td>\n",
       "      <td>32.4 ± 2.2</td>\n",
       "      <td>9 ± 1</td>\n",
       "      <td>-66.6</td>\n",
       "    </tr>\n",
       "    <tr>\n",
       "      <th>1</th>\n",
       "      <td>1.1.01.01.</td>\n",
       "      <td>Halorhodopsin</td>\n",
       "      <td>1E12</td>\n",
       "      <td>Halobacterium salinarum</td>\n",
       "      <td>Archaebac.</td>\n",
       "      <td>3</td>\n",
       "      <td>21</td>\n",
       "      <td>31.8 ± 1.4</td>\n",
       "      <td>0 ± 1</td>\n",
       "      <td>-126.7</td>\n",
       "    </tr>\n",
       "    <tr>\n",
       "      <th>2</th>\n",
       "      <td>1.1.01.01.</td>\n",
       "      <td>Proteorhodopsin</td>\n",
       "      <td>4JQ6</td>\n",
       "      <td>Gamma-proteobacterium</td>\n",
       "      <td>Bact. Gram-neg inner</td>\n",
       "      <td>6</td>\n",
       "      <td>42</td>\n",
       "      <td>28.4 ± 1.3</td>\n",
       "      <td>0 ± 0</td>\n",
       "      <td>-188.5</td>\n",
       "    </tr>\n",
       "    <tr>\n",
       "      <th>3</th>\n",
       "      <td>1.1.01.01.</td>\n",
       "      <td>Archaerhodopsin-2, trimeric</td>\n",
       "      <td>2EI4</td>\n",
       "      <td>Halobacterium sp.</td>\n",
       "      <td>Archaebac.</td>\n",
       "      <td>3</td>\n",
       "      <td>21</td>\n",
       "      <td>30.5 ± 1.2</td>\n",
       "      <td>0 ± 1</td>\n",
       "      <td>-143.9</td>\n",
       "    </tr>\n",
       "    <tr>\n",
       "      <th>4</th>\n",
       "      <td>1.1.01.01.</td>\n",
       "      <td>Archaerhodopsin-1</td>\n",
       "      <td>1UAZ</td>\n",
       "      <td>Halobacterium sp.</td>\n",
       "      <td>Archaebac.</td>\n",
       "      <td>1</td>\n",
       "      <td>7</td>\n",
       "      <td>31.8 ± 1.3</td>\n",
       "      <td>9 ± 2</td>\n",
       "      <td>-65.3</td>\n",
       "    </tr>\n",
       "  </tbody>\n",
       "</table>\n",
       "</div>"
      ],
      "text/plain": [
       "       Family                  ProteinName PDBID                  Species  \\\n",
       "0  1.1.01.01.                  Rhodopsin I  5AX0  Acetabularia acetabulum   \n",
       "1  1.1.01.01.                Halorhodopsin  1E12  Halobacterium salinarum   \n",
       "2  1.1.01.01.              Proteorhodopsin  4JQ6    Gamma-proteobacterium   \n",
       "3  1.1.01.01.  Archaerhodopsin-2, trimeric  2EI4        Halobacterium sp.   \n",
       "4  1.1.01.01.            Archaerhodopsin-1  1UAZ        Halobacterium sp.   \n",
       "\n",
       "           Localization  Num.Subunits  Num.TMSec.Structs.  \\\n",
       "0       Eukaryo. plasma             1                   7   \n",
       "1            Archaebac.             3                  21   \n",
       "2  Bact. Gram-neg inner             6                  42   \n",
       "3            Archaebac.             3                  21   \n",
       "4            Archaebac.             1                   7   \n",
       "\n",
       "  HydrophobicThicknessorDepth(Å) TiltAngle(°)  ΔGtransfer(kcal/mol)  \n",
       "0                     32.4 ± 2.2        9 ± 1                 -66.6  \n",
       "1                     31.8 ± 1.4        0 ± 1                -126.7  \n",
       "2                     28.4 ± 1.3        0 ± 0                -188.5  \n",
       "3                     30.5 ± 1.2        0 ± 1                -143.9  \n",
       "4                     31.8 ± 1.3        9 ± 2                 -65.3  "
      ]
     },
     "execution_count": 66,
     "metadata": {},
     "output_type": "execute_result"
    }
   ],
   "source": [
    "dataset.toPandas().head()"
   ]
  },
  {
   "cell_type": "code",
   "execution_count": 79,
   "metadata": {},
   "outputs": [
    {
     "name": "stdout",
     "output_type": "stream",
     "text": [
      "['5AX0', '1E12', '4JQ6', '2EI4', '1UAZ', '4JR8', '1IW6', '4PXK', '2ZZL', '5AZD', '6EYU', '1H68', '4FBZ', '3A7K', '1PY6', '4QI1', '3VVK', '5JJE', '6EID', '4XTL', '1VGO', '3UG9', '6EIG', '1XIO', '4XTO', '3AM6', '2L6X', '5JSI', '4HYJ', '2M3G', '4TL3', '1M0L', '1FBK', '4WAV', '5B2N', '5VN7', '3DDL', '3X3B', '1H2S', '4KNF', '1AP9']\n"
     ]
    }
   ],
   "source": [
    "# get pdb ids for alpha-helical transmembrane proteins and beta-barrel transmembrane proteins\n",
    "opm_df = dataset.toPandas()\n",
    "tm_alpha_pdbids = opm_df[[s.startswith('1.1.') for s in opm_df['Family']]]['PDBID'].tolist()\n",
    "beta_barrel_pdbids = opm_df[[s.startswith('1.3.') for s in opm_df['Family']]]['PDBID'].tolist()\n",
    "gpcrpdbids = opm_df[[s.startswith('1.1.01.01') for s in opm_df['Family']]]['PDBID'].tolist()\n",
    "print(gpcrpdbids)"
   ]
  },
  {
   "cell_type": "code",
   "execution_count": null,
   "metadata": {},
   "outputs": [],
   "source": [
    "# import urllib\n",
    "\n",
    "#def DepPDBFilter(pdbid):\n",
    "#    request = urllib.request.Request('https://mmtf.rcsb.org/v1.0/full/' + pdbid)\n",
    "#    request.get_method = lambda: 'HEAD'\n",
    "#    try:\n",
    "#        urllib.request.urlopen(request)\n",
    "#        return True\n",
    "#    except urllib.request.HTTPError:\n",
    "#        return False\n",
    "#\n",
    "#cleanpdblist = [i for i in pdbids if DepPDBFilter(i)]\n",
    "#print(cleanpdblist)"
   ]
  },
  {
   "cell_type": "code",
   "execution_count": 12,
   "metadata": {},
   "outputs": [],
   "source": [
    "#sppdbids = sc.parallelize(set(pdbids)).filter(lambda t: DepPDBFilter(t))\n",
    "# structures = mmtfReader.download_full_mmtf_files(cleanpdblist, sc).cache()"
   ]
  },
  {
   "cell_type": "code",
   "execution_count": 69,
   "metadata": {},
   "outputs": [],
   "source": [
    "def view_proteins(pdb_ids):\n",
    "    import pycurl\n",
    "    def view3d(i=0):\n",
    "        pdb_id = pdb_ids[i].lower()\n",
    "        opm_url = 'http://opm.phar.umich.edu/pdb/'\n",
    "        c = pycurl.Curl()\n",
    "        c.setopt(c.URL, opm_url + pdb_id + '.pdb')\n",
    "        with open(pdb_id + '.pdb', 'wb') as f:\n",
    "            c.setopt(c.WRITEDATA, f)\n",
    "            c.perform()\n",
    "        \n",
    "        print(f'PDB: {pdb_ids[i]}')\n",
    "\n",
    "        structure = open(pdb_id + '.pdb', 'r').read()\n",
    "        viewer = py3Dmol.view()\n",
    "        viewer.addModel(structure, 'pdb')\n",
    "\n",
    "        viewer.setStyle({'cartoon': {'color': 'spectrum'}})\n",
    "        viewer.setStyle({'hetflag': True}, {'stick': {}})\n",
    "        viewer.setStyle({'resn': 'DUM'}, {'sphere': {'radius': 0.3}})\n",
    "        viewer.zoomTo()\n",
    "        viewer.rotate(-90, 'x', 1)\n",
    "        return viewer.show()\n",
    "\n",
    "    s_widget = IntSlider(min=0, max=len(pdb_ids)-1, description='Structure', continuous_update=False)\n",
    "    return interact(view3d, i=s_widget)"
   ]
  },
  {
   "cell_type": "code",
   "execution_count": 82,
   "metadata": {},
   "outputs": [
    {
     "data": {
      "application/vnd.jupyter.widget-view+json": {
       "model_id": "5efe237f84734bcc842fe0ff8980a56e",
       "version_major": 2,
       "version_minor": 0
      },
      "text/plain": [
       "interactive(children=(IntSlider(value=0, continuous_update=False, description='Structure', max=1228), Output()…"
      ]
     },
     "metadata": {},
     "output_type": "display_data"
    },
    {
     "data": {
      "text/plain": [
       "<function __main__.view_proteins.<locals>.view3d>"
      ]
     },
     "execution_count": 82,
     "metadata": {},
     "output_type": "execute_result"
    }
   ],
   "source": [
    "view_proteins(tm_alpha_pdbids)"
   ]
  },
  {
   "cell_type": "code",
   "execution_count": 80,
   "metadata": {},
   "outputs": [
    {
     "data": {
      "application/vnd.jupyter.widget-view+json": {
       "model_id": "47ae64067d684991a440c4c1fd6d5bb7",
       "version_major": 2,
       "version_minor": 0
      },
      "text/plain": [
       "interactive(children=(IntSlider(value=0, continuous_update=False, description='Structure', max=40), Output()),…"
      ]
     },
     "metadata": {},
     "output_type": "display_data"
    },
    {
     "data": {
      "text/plain": [
       "<function __main__.view_proteins.<locals>.view3d>"
      ]
     },
     "execution_count": 80,
     "metadata": {},
     "output_type": "execute_result"
    }
   ],
   "source": [
    "view_proteins(gpcrpdbids)"
   ]
  },
  {
   "cell_type": "code",
   "execution_count": 81,
   "metadata": {},
   "outputs": [
    {
     "data": {
      "application/vnd.jupyter.widget-view+json": {
       "model_id": "fc29ca6277454ca9a79eb2f32ef19f5a",
       "version_major": 2,
       "version_minor": 0
      },
      "text/plain": [
       "interactive(children=(IntSlider(value=0, continuous_update=False, description='Structure', max=241), Output())…"
      ]
     },
     "metadata": {},
     "output_type": "display_data"
    },
    {
     "data": {
      "text/plain": [
       "<function __main__.view_proteins.<locals>.view3d>"
      ]
     },
     "execution_count": 81,
     "metadata": {},
     "output_type": "execute_result"
    }
   ],
   "source": [
    "view_proteins(beta_barrel_pdbids)"
   ]
  },
  {
   "cell_type": "code",
   "execution_count": null,
   "metadata": {},
   "outputs": [],
   "source": [
    "spark.stop()"
   ]
  }
 ],
 "metadata": {
  "kernelspec": {
   "display_name": "Python 3",
   "language": "python",
   "name": "python3"
  },
  "language_info": {
   "codemirror_mode": {
    "name": "ipython",
    "version": 3
   },
   "file_extension": ".py",
   "mimetype": "text/x-python",
   "name": "python",
   "nbconvert_exporter": "python",
   "pygments_lexer": "ipython3",
   "version": "3.6.4"
  }
 },
 "nbformat": 4,
 "nbformat_minor": 2
}
