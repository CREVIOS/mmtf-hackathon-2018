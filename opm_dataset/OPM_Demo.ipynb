{
 "cells": [
  {
   "cell_type": "code",
   "execution_count": 1,
   "metadata": {},
   "outputs": [],
   "source": [
    "from pyspark.sql import SparkSession\n",
    "import opmDataset\n",
    "from pandas import *\n",
    "from mmtfPyspark.io import mmtfReader\n",
    "from ipywidgets import interact, IntSlider\n",
    "import py3Dmol"
   ]
  },
  {
   "cell_type": "markdown",
   "metadata": {},
   "source": [
    "#### Configure Spark"
   ]
  },
  {
   "cell_type": "code",
   "execution_count": 2,
   "metadata": {},
   "outputs": [],
   "source": [
    "spark = SparkSession.builder.master(\"local[4]\").appName(\"OPM_DEMO\").getOrCreate()\n",
    "sc = spark.sparkContext"
   ]
  },
  {
   "cell_type": "code",
   "execution_count": 3,
   "metadata": {},
   "outputs": [],
   "source": [
    "dataset = opmDataset.get_dataset()"
   ]
  },
  {
   "cell_type": "code",
   "execution_count": 4,
   "metadata": {},
   "outputs": [
    {
     "data": {
      "text/html": [
       "<div>\n",
       "<style>\n",
       "    .dataframe thead tr:only-child th {\n",
       "        text-align: right;\n",
       "    }\n",
       "\n",
       "    .dataframe thead th {\n",
       "        text-align: left;\n",
       "    }\n",
       "\n",
       "    .dataframe tbody tr th {\n",
       "        vertical-align: top;\n",
       "    }\n",
       "</style>\n",
       "<table border=\"1\" class=\"dataframe\">\n",
       "  <thead>\n",
       "    <tr style=\"text-align: right;\">\n",
       "      <th></th>\n",
       "      <th>Family</th>\n",
       "      <th>ProteinName</th>\n",
       "      <th>PDBID</th>\n",
       "      <th>Species</th>\n",
       "      <th>Localization</th>\n",
       "      <th>Num.Subunits</th>\n",
       "      <th>Num.TMSec.Structs.</th>\n",
       "      <th>HydrophobicThicknessorDepth(Å)</th>\n",
       "      <th>TiltAngle(°)</th>\n",
       "      <th>ΔGtransfer(kcal/mol)</th>\n",
       "    </tr>\n",
       "  </thead>\n",
       "  <tbody>\n",
       "    <tr>\n",
       "      <th>0</th>\n",
       "      <td>1.1.01.01.</td>\n",
       "      <td>Cruxrhodopsin-3</td>\n",
       "      <td>4JR8</td>\n",
       "      <td>Haloarcula vallismortis</td>\n",
       "      <td>Archaebac.</td>\n",
       "      <td>3</td>\n",
       "      <td>21</td>\n",
       "      <td>31.8 ± 1.2</td>\n",
       "      <td>0 ± 0</td>\n",
       "      <td>-130.4</td>\n",
       "    </tr>\n",
       "    <tr>\n",
       "      <th>1</th>\n",
       "      <td>1.1.01.01.</td>\n",
       "      <td>Bacteriorhodopsin, K state, with lipids</td>\n",
       "      <td>1IW6</td>\n",
       "      <td>Halobacterium salinarum</td>\n",
       "      <td>Archaebac.</td>\n",
       "      <td>3</td>\n",
       "      <td>21</td>\n",
       "      <td>30.0 ± 0.6</td>\n",
       "      <td>0 ± 0</td>\n",
       "      <td>-112.6</td>\n",
       "    </tr>\n",
       "    <tr>\n",
       "      <th>2</th>\n",
       "      <td>1.1.01.01.</td>\n",
       "      <td>Bacteriorhodopsin, trimer, complex with annula...</td>\n",
       "      <td>2ZZL</td>\n",
       "      <td>Halobacterium salinarum</td>\n",
       "      <td>Archaebac.</td>\n",
       "      <td>3</td>\n",
       "      <td>21</td>\n",
       "      <td>29.8 ± 0.6</td>\n",
       "      <td>0 ± 0</td>\n",
       "      <td>-119.0</td>\n",
       "    </tr>\n",
       "    <tr>\n",
       "      <th>3</th>\n",
       "      <td>1.1.01.01.</td>\n",
       "      <td>Bacteriorhodopsin-I</td>\n",
       "      <td>4PXK</td>\n",
       "      <td>Haloarcula marismortui</td>\n",
       "      <td>Archaebac.</td>\n",
       "      <td>1</td>\n",
       "      <td>7</td>\n",
       "      <td>31.8 ± 1.4</td>\n",
       "      <td>11 ± 1</td>\n",
       "      <td>-72.7</td>\n",
       "    </tr>\n",
       "    <tr>\n",
       "      <th>4</th>\n",
       "      <td>1.1.01.01.</td>\n",
       "      <td>Bacteriorhodopsin</td>\n",
       "      <td>5AZD</td>\n",
       "      <td>Thermus thermophilus</td>\n",
       "      <td>Bact. Gram-neg inner</td>\n",
       "      <td>4</td>\n",
       "      <td>28</td>\n",
       "      <td>30.0 ± 0.5</td>\n",
       "      <td>3 ± 1</td>\n",
       "      <td>-121.3</td>\n",
       "    </tr>\n",
       "  </tbody>\n",
       "</table>\n",
       "</div>"
      ],
      "text/plain": [
       "       Family                                        ProteinName PDBID  \\\n",
       "0  1.1.01.01.                                    Cruxrhodopsin-3  4JR8   \n",
       "1  1.1.01.01.            Bacteriorhodopsin, K state, with lipids  1IW6   \n",
       "2  1.1.01.01.  Bacteriorhodopsin, trimer, complex with annula...  2ZZL   \n",
       "3  1.1.01.01.                                Bacteriorhodopsin-I  4PXK   \n",
       "4  1.1.01.01.                                  Bacteriorhodopsin  5AZD   \n",
       "\n",
       "                   Species          Localization  Num.Subunits  \\\n",
       "0  Haloarcula vallismortis            Archaebac.             3   \n",
       "1  Halobacterium salinarum            Archaebac.             3   \n",
       "2  Halobacterium salinarum            Archaebac.             3   \n",
       "3   Haloarcula marismortui            Archaebac.             1   \n",
       "4     Thermus thermophilus  Bact. Gram-neg inner             4   \n",
       "\n",
       "   Num.TMSec.Structs. HydrophobicThicknessorDepth(Å) TiltAngle(°)  \\\n",
       "0                  21                     31.8 ± 1.2        0 ± 0   \n",
       "1                  21                     30.0 ± 0.6        0 ± 0   \n",
       "2                  21                     29.8 ± 0.6        0 ± 0   \n",
       "3                   7                     31.8 ± 1.4       11 ± 1   \n",
       "4                  28                     30.0 ± 0.5        3 ± 1   \n",
       "\n",
       "   ΔGtransfer(kcal/mol)  \n",
       "0                -130.4  \n",
       "1                -112.6  \n",
       "2                -119.0  \n",
       "3                 -72.7  \n",
       "4                -121.3  "
      ]
     },
     "execution_count": 4,
     "metadata": {},
     "output_type": "execute_result"
    }
   ],
   "source": [
    "dataset.toPandas().head()"
   ]
  },
  {
   "cell_type": "code",
   "execution_count": 21,
   "metadata": {},
   "outputs": [],
   "source": [
    "# get pdb ids for alpha-helical transmembrane proteins and beta-barrel transmembrane proteins\n",
    "opm_df = dataset.toPandas()\n",
    "tm_alpha_pdbids = opm_df[[s.startswith('1.1.') for s in opm_df['Family']]]['PDBID'].tolist()\n",
    "beta_barrel_pdbids = opm_df[[s.startswith('1.3.') for s in opm_df['Family']]]['PDBID'].tolist()"
   ]
  },
  {
   "cell_type": "markdown",
   "metadata": {},
   "source": [
    "import urllib\n",
    "\n",
    "def DepPDBFilter(pdbid):\n",
    "    request = urllib.request.Request('https://mmtf.rcsb.org/v1.0/full/' + pdbid)\n",
    "    request.get_method = lambda: 'HEAD'\n",
    "    try:\n",
    "        urllib.request.urlopen(request)\n",
    "        return True\n",
    "    except urllib.request.HTTPError:\n",
    "        return False\n",
    "\n",
    "cleanpdblist = [i for i in pdbids if DepPDBFilter(i)]\n",
    "print(cleanpdblist)"
   ]
  },
  {
   "cell_type": "code",
   "execution_count": 12,
   "metadata": {},
   "outputs": [],
   "source": [
    "#sppdbids = sc.parallelize(set(pdbids)).filter(lambda t: DepPDBFilter(t))\n",
    "# structures = mmtfReader.download_full_mmtf_files(cleanpdblist, sc).cache()"
   ]
  },
  {
   "cell_type": "code",
   "execution_count": 20,
   "metadata": {},
   "outputs": [
    {
     "ename": "TypeError",
     "evalue": "'PipelinedRDD' object is not subscriptable",
     "output_type": "error",
     "traceback": [
      "\u001b[0;31m---------------------------------------------------------------------------\u001b[0m",
      "\u001b[0;31mTypeError\u001b[0m                                 Traceback (most recent call last)",
      "\u001b[0;32m<ipython-input-20-7f8f6efdf35f>\u001b[0m in \u001b[0;36m<module>\u001b[0;34m()\u001b[0m\n\u001b[0;32m----> 1\u001b[0;31m \u001b[0mdataset\u001b[0m \u001b[0;34m=\u001b[0m \u001b[0mdataset\u001b[0m\u001b[0;34m.\u001b[0m\u001b[0mjoin\u001b[0m\u001b[0;34m(\u001b[0m\u001b[0mstructures\u001b[0m\u001b[0;34m,\u001b[0m \u001b[0mstructures\u001b[0m\u001b[0;34m[\u001b[0m\u001b[0;34m'PDBID'\u001b[0m\u001b[0;34m]\u001b[0m \u001b[0;34m==\u001b[0m \u001b[0mdataset\u001b[0m\u001b[0;34m[\u001b[0m\u001b[0;34m'PDBID'\u001b[0m\u001b[0;34m]\u001b[0m\u001b[0;34m)\u001b[0m\u001b[0;34m\u001b[0m\u001b[0m\n\u001b[0m",
      "\u001b[0;31mTypeError\u001b[0m: 'PipelinedRDD' object is not subscriptable"
     ]
    }
   ],
   "source": []
  },
  {
   "cell_type": "code",
   "execution_count": 23,
   "metadata": {},
   "outputs": [],
   "source": [
    "def view_proteins(pdb_ids):\n",
    "    import pycurl\n",
    "    def view3d(i=0):\n",
    "        pdb_id = pdb_ids[i].lower()\n",
    "        opm_url = 'http://opm.phar.umich.edu/pdb/'\n",
    "        c = pycurl.Curl()\n",
    "        c.setopt(c.URL, opm_url + pdb_id + '.pdb')\n",
    "        with open(pdb_id + '.pdb', 'wb') as f:\n",
    "            c.setopt(c.WRITEDATA, f)\n",
    "            c.perform()\n",
    "        \n",
    "        print(f'PDB: {pdb_ids[i]}')\n",
    "\n",
    "        structure = open(pdb_id + '.pdb', 'r').read()\n",
    "        viewer = py3Dmol.view()\n",
    "        viewer.addModel(structure, 'pdb')\n",
    "\n",
    "        viewer.setStyle({'cartoon': {'color': 'spectrum'}})\n",
    "        viewer.setStyle({'hetflag': True}, {'stick': {}})\n",
    "        viewer.setStyle({'resn': 'DUM'}, {'sphere': {'radius': 0.3}})\n",
    "        viewer.zoomTo()\n",
    "        viewer.rotate(-90, 'x', 1)\n",
    "        return viewer.show()\n",
    "\n",
    "    s_widget = IntSlider(min=0, max=len(pdb_ids)-1, description='Structure', continuous_update=False)\n",
    "    return interact(view3d, i=s_widget)"
   ]
  },
  {
   "cell_type": "code",
   "execution_count": 25,
   "metadata": {},
   "outputs": [
    {
     "data": {
      "application/vnd.jupyter.widget-view+json": {
       "model_id": "64ff9e1f3c55469dae559327daae1c26",
       "version_major": 2,
       "version_minor": 0
      },
      "text/plain": [
       "interactive(children=(IntSlider(value=0, continuous_update=False, description='Structure', max=1228), Output()…"
      ]
     },
     "metadata": {},
     "output_type": "display_data"
    },
    {
     "data": {
      "text/plain": [
       "<function __main__.view_proteins.<locals>.view3d(i=0)>"
      ]
     },
     "execution_count": 25,
     "metadata": {},
     "output_type": "execute_result"
    }
   ],
   "source": [
    "view_proteins(tm_alpha_pdbids)"
   ]
  },
  {
   "cell_type": "code",
   "execution_count": 24,
   "metadata": {},
   "outputs": [
    {
     "data": {
      "application/vnd.jupyter.widget-view+json": {
       "model_id": "e7d1a748474949c4bd0ee6728555b2f2",
       "version_major": 2,
       "version_minor": 0
      },
      "text/plain": [
       "interactive(children=(IntSlider(value=0, continuous_update=False, description='Structure', max=241), Output())…"
      ]
     },
     "metadata": {},
     "output_type": "display_data"
    },
    {
     "data": {
      "text/plain": [
       "<function __main__.view_proteins.<locals>.view3d(i=0)>"
      ]
     },
     "execution_count": 24,
     "metadata": {},
     "output_type": "execute_result"
    }
   ],
   "source": [
    "view_proteins(beta_barrel_pdbids)"
   ]
  },
  {
   "cell_type": "code",
   "execution_count": null,
   "metadata": {},
   "outputs": [],
   "source": [
    "spark.stop()"
   ]
  }
 ],
 "metadata": {
  "kernelspec": {
   "display_name": "Python 3",
   "language": "python",
   "name": "python3"
  },
  "language_info": {
   "codemirror_mode": {
    "name": "ipython",
    "version": 3
   },
   "file_extension": ".py",
   "mimetype": "text/x-python",
   "name": "python",
   "nbconvert_exporter": "python",
   "pygments_lexer": "ipython3",
   "version": "3.6.1"
  }
 },
 "nbformat": 4,
 "nbformat_minor": 2
}
